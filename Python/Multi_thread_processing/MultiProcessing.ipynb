{
 "cells": [
  {
   "cell_type": "code",
   "execution_count": 2,
   "metadata": {},
   "outputs": [],
   "source": [
    "import multiprocessing as mp\n",
    "import time"
   ]
  },
  {
   "cell_type": "code",
   "execution_count": 6,
   "metadata": {},
   "outputs": [],
   "source": [
    "def cal_squre(ls):\n",
    "    for i in ls:\n",
    "        time.sleep(0.2) #making it like io bound\n",
    "        print(i,\" squire :\", i*i)\n",
    "        \n",
    "def cal_cube(ls):\n",
    "   \n",
    "    for i in ls:\n",
    "        time.sleep(0.2) #making it like io bound\n",
    "        print(i,\" cube : \",i*i*i)"
   ]
  },
  {
   "cell_type": "markdown",
   "metadata": {},
   "source": [
    "# Normal excution"
   ]
  },
  {
   "cell_type": "code",
   "execution_count": 9,
   "metadata": {},
   "outputs": [
    {
     "name": "stdout",
     "output_type": "stream",
     "text": [
      "4  squire : 16\n",
      "6  squire : 36\n",
      "7  squire : 49\n",
      "8  squire : 64\n",
      "9  squire : 81\n",
      "4  cube :  64\n",
      "6  cube :  216\n",
      "7  cube :  343\n",
      "8  cube :  512\n",
      "9  cube :  729\n",
      "Total Excution Time :  2007.948875427246 Mili second\n"
     ]
    }
   ],
   "source": [
    "ls=[4,6,7,8,9]\n",
    "\n",
    "t1= time.time()\n",
    "\n",
    "cal_squre(ls)\n",
    "cal_cube(ls)\n",
    "\n",
    "print('Total Excution Time : ',(time.time()-t1)*1000,'Mili second')\n"
   ]
  },
  {
   "cell_type": "markdown",
   "metadata": {},
   "source": [
    "# creating Multiprocessing"
   ]
  },
  {
   "cell_type": "code",
   "execution_count": 12,
   "metadata": {},
   "outputs": [
    {
     "name": "stdout",
     "output_type": "stream",
     "text": [
      "4  squire : 16\n",
      "4  cube :  64\n",
      "6  squire : 36\n",
      "6  cube :  216\n",
      "7  squire : 49\n",
      "7  cube :  343\n",
      "8  squire : 64\n",
      "8  cube :  512\n",
      "9  squire : 81\n",
      "9  cube :  729\n",
      "Total Excution Time :  1039.0815734863281 Mili second\n"
     ]
    }
   ],
   "source": [
    "t1= time.time()\n",
    "\n",
    "p1 = mp.Process(target=cal_squre, args=(ls,))\n",
    "p2 = mp.Process(target=cal_cube, args=(ls, ))\n",
    "\n",
    "p1.start()\n",
    "p2.start()\n",
    "\n",
    "p1.join()\n",
    "p2.join()\n",
    "\n",
    "print('Total Excution Time : ',(time.time()-t1)*1000,'Mili second')\n"
   ]
  },
  {
   "cell_type": "markdown",
   "metadata": {},
   "source": [
    "## We can see that it is efficient for I/O Bound job "
   ]
  },
  {
   "cell_type": "markdown",
   "metadata": {},
   "source": [
    "# for CPU bound JOB"
   ]
  },
  {
   "cell_type": "code",
   "execution_count": 3,
   "metadata": {},
   "outputs": [],
   "source": [
    "def cal_squre(ls):\n",
    "    for i in ls:\n",
    "        print(i,\" squire :\", i*i)\n",
    "        \n",
    "def cal_cube(ls):\n",
    "   \n",
    "    for i in ls:\n",
    "        print(i,\" cube : \",i*i*i)"
   ]
  },
  {
   "cell_type": "code",
   "execution_count": 4,
   "metadata": {},
   "outputs": [
    {
     "name": "stdout",
     "output_type": "stream",
     "text": [
      "4  cube :  64\n",
      "6  cube :  216\n",
      "4  squire : 16\n",
      "7  cube :  343\n",
      "6  squire : 36\n",
      "7  squire : 49\n",
      "8  cube :  512\n",
      "8  squire : 64\n",
      "9  cube :  729\n",
      "9  squire : 81\n",
      "Total Excution Time :  80.95002174377441 Mili second\n"
     ]
    }
   ],
   "source": [
    "ls=[4,6,7,8,9]\n",
    "t1= time.time()\n",
    "\n",
    "p1 = mp.Process(target=cal_squre, args=(ls,))\n",
    "p2 = mp.Process(target=cal_cube, args=(ls, ))\n",
    "\n",
    "p1.start()\n",
    "p2.start()\n",
    "\n",
    "p1.join()\n",
    "p2.join()\n",
    "\n",
    "print('Total Excution Time : ',(time.time()-t1)*1000,'Mili second')"
   ]
  },
  {
   "cell_type": "markdown",
   "metadata": {},
   "source": [
    "# Here it is clear that for CPU bound job , multiprocessing is much faster,"
   ]
  },
  {
   "cell_type": "code",
   "execution_count": null,
   "metadata": {},
   "outputs": [],
   "source": []
  }
 ],
 "metadata": {
  "kernelspec": {
   "display_name": "Python 3",
   "language": "python",
   "name": "python3"
  },
  "language_info": {
   "codemirror_mode": {
    "name": "ipython",
    "version": 3
   },
   "file_extension": ".py",
   "mimetype": "text/x-python",
   "name": "python",
   "nbconvert_exporter": "python",
   "pygments_lexer": "ipython3",
   "version": "3.6.5"
  }
 },
 "nbformat": 4,
 "nbformat_minor": 2
}
