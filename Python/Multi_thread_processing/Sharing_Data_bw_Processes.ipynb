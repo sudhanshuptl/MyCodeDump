{
 "cells": [
  {
   "cell_type": "code",
   "execution_count": 2,
   "metadata": {},
   "outputs": [],
   "source": [
    "import multiprocessing as mp\n",
    "import time"
   ]
  },
  {
   "cell_type": "code",
   "execution_count": 6,
   "metadata": {},
   "outputs": [],
   "source": [
    "save_squire=[]\n",
    "def cal_squre(ls):\n",
    "    global save_squire\n",
    "    for i in ls:\n",
    "        save_squire.append(i*i)\n",
    "    print('Within process ',save_squire)"
   ]
  },
  {
   "cell_type": "code",
   "execution_count": 7,
   "metadata": {},
   "outputs": [
    {
     "name": "stdout",
     "output_type": "stream",
     "text": [
      "Within process  [16, 36, 49, 64, 81]\n",
      "In parent  process  []\n"
     ]
    }
   ],
   "source": [
    "ls=[4,6,7,8,9]\n",
    "p1 = mp.Process(target=cal_squre, args=(ls,))\n",
    "\n",
    "p1.start()\n",
    "\n",
    "p1.join() #process will complete here\n",
    "# nowprinting save_squire\n",
    "print('In parent  process ',save_squire)"
   ]
  },
  {
   "cell_type": "markdown",
   "metadata": {},
   "source": [
    "## Why it prints [], it should print list of squires"
   ]
  },
  {
   "cell_type": "markdown",
   "metadata": {},
   "source": [
    "<h4> Because when we copy a new process \n",
    "it create a seperate copy of save_squire variable that will destroy with end of that process </h4>"
   ]
  },
  {
   "cell_type": "markdown",
   "metadata": {},
   "source": [
    "<h4> Every process have their own address space So program variables are not shared among them </h4>"
   ]
  },
  {
   "cell_type": "markdown",
   "metadata": {},
   "source": [
    "# Using IPC "
   ]
  },
  {
   "cell_type": "markdown",
   "metadata": {},
   "source": [
    "### Inter Process Communication, A technique to share data between processes"
   ]
  },
  {
   "cell_type": "markdown",
   "metadata": {},
   "source": [
    "# Using Array  and value"
   ]
  },
  {
   "cell_type": "code",
   "execution_count": 11,
   "metadata": {},
   "outputs": [],
   "source": [
    "def cal_squre(number,result, v):\n",
    "    v.value = 123.45\n",
    "    for idx , num in enumerate(number):\n",
    "        result[idx] = num*num"
   ]
  },
  {
   "cell_type": "code",
   "execution_count": 12,
   "metadata": {},
   "outputs": [
    {
     "name": "stdout",
     "output_type": "stream",
     "text": [
      "In parent  process array [16, 36, 49, 64, 81]\n",
      "In parent  process value 123.45\n"
     ]
    }
   ],
   "source": [
    "number=[4,6,7,8,9]\n",
    "result = mp.Array('i',5) #aaray of size 5 with int data type\n",
    "v = mp.Value('d',0.0) #double data type with initial value 0\n",
    "p1 = mp.Process(target=cal_squre, args=(number,result,v))\n",
    "\n",
    "p1.start()\n",
    "\n",
    "p1.join() #process will complete here\n",
    "# nowprinting save_squire\n",
    "print('In parent  process array',result[:])\n",
    "print('In parent  process value',v.value)"
   ]
  },
  {
   "cell_type": "markdown",
   "metadata": {},
   "source": [
    "# Sharing using Queue and pipe"
   ]
  },
  {
   "cell_type": "markdown",
   "metadata": {},
   "source": [
    "<img src ='img.png' height=300 weight = 300/>"
   ]
  },
  {
   "cell_type": "code",
   "execution_count": 3,
   "metadata": {},
   "outputs": [],
   "source": [
    "def cal_squre(number, queue):\n",
    "    for num in number:\n",
    "        queue.put(num*num)"
   ]
  },
  {
   "cell_type": "code",
   "execution_count": 5,
   "metadata": {},
   "outputs": [
    {
     "name": "stdout",
     "output_type": "stream",
     "text": [
      "16\n",
      "36\n",
      "49\n",
      "64\n",
      "81\n"
     ]
    }
   ],
   "source": [
    "number=[4,6,7,8,9]\n",
    "queue = mp.Queue()\n",
    "p1 = mp.Process(target=cal_squre, args=(number,queue))\n",
    "\n",
    "p1.start()\n",
    "\n",
    "p1.join() #process will complete here\n",
    "# nowprinting save_squire\n",
    "\n",
    "\n",
    "while not queue.empty():\n",
    "    print(queue.get())"
   ]
  },
  {
   "cell_type": "markdown",
   "metadata": {},
   "source": [
    "## Multiprocessor Queue\n",
    "* lives in shared memory\n",
    "* use to share data between processes"
   ]
  },
  {
   "cell_type": "markdown",
   "metadata": {},
   "source": [
    "# Queue module : Queue\n",
    "```import queue\n",
    "   q = queue.Queue()\n",
    "```\n",
    "* Live in process memory\n",
    "* used to share data between threads"
   ]
  },
  {
   "cell_type": "code",
   "execution_count": null,
   "metadata": {},
   "outputs": [],
   "source": []
  }
 ],
 "metadata": {
  "kernelspec": {
   "display_name": "Python 3",
   "language": "python",
   "name": "python3"
  }
 },
 "nbformat": 4,
 "nbformat_minor": 2
}
