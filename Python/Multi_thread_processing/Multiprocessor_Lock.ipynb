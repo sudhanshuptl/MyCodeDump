{
 "cells": [
  {
   "cell_type": "code",
   "execution_count": 19,
   "metadata": {},
   "outputs": [],
   "source": [
    "import multiprocessing as mp\n",
    "import time"
   ]
  },
  {
   "cell_type": "markdown",
   "metadata": {},
   "source": [
    "# Critical section Problem"
   ]
  },
  {
   "cell_type": "code",
   "execution_count": 20,
   "metadata": {},
   "outputs": [],
   "source": [
    "def deposite(balance, amount):\n",
    "    for i in range(amount):\n",
    "        time.sleep(0.01)\n",
    "        balance.value =  balance.value+1\n",
    "        \n",
    "def withdrow(balance, amount):\n",
    "    for i in range(amount):\n",
    "        time.sleep(0.01)\n",
    "        balance.value =  balance.value -1"
   ]
  },
  {
   "cell_type": "code",
   "execution_count": 22,
   "metadata": {},
   "outputs": [
    {
     "name": "stdout",
     "output_type": "stream",
     "text": [
      "Final Balance : 150\n"
     ]
    }
   ],
   "source": [
    "balance = mp.Value('i',100)\n",
    "\n",
    "p1 = mp.Process(target=deposite, args=(balance,100))\n",
    "p2 = mp.Process(target=withdrow, args=(balance,50))\n",
    "\n",
    "p1.start()\n",
    "p2.start()\n",
    "\n",
    "p1.join()\n",
    "p2.join()\n",
    "\n",
    "print('Final Balance :',balance.value)"
   ]
  },
  {
   "cell_type": "markdown",
   "metadata": {},
   "source": [
    "# Result can vary in script\n",
    "* Jupyter does not fully syupports multiprocessing so here results are not changing"
   ]
  },
  {
   "cell_type": "markdown",
   "metadata": {},
   "source": [
    " <img src='mult.png' />"
   ]
  },
  {
   "cell_type": "markdown",
   "metadata": {},
   "source": [
    "# We need to use Lock to solve this critical section problem"
   ]
  },
  {
   "cell_type": "code",
   "execution_count": 26,
   "metadata": {},
   "outputs": [],
   "source": [
    "def deposite(balance, amount,lock):\n",
    "    for i in range(amount):\n",
    "        time.sleep(0.01)\n",
    "        lock.acquire()\n",
    "        balance.value =  balance.value+1\n",
    "        lock.release()\n",
    "        \n",
    "def withdrow(balance, amount,lock):\n",
    "    for i in range(amount):\n",
    "        time.sleep(0.01)\n",
    "        lock.acquire()\n",
    "        balance.value =  balance.value -1\n",
    "        lock.release()"
   ]
  },
  {
   "cell_type": "code",
   "execution_count": 27,
   "metadata": {},
   "outputs": [
    {
     "name": "stdout",
     "output_type": "stream",
     "text": [
      "Final Balance : 150\n"
     ]
    }
   ],
   "source": [
    "balance = mp.Value('i',100)\n",
    "lock = mp.Lock()\n",
    "p1 = mp.Process(target=deposite, args=(balance,100,lock))\n",
    "p2 = mp.Process(target=withdrow, args=(balance,50,lock))\n",
    "\n",
    "p1.start()\n",
    "p2.start()\n",
    "\n",
    "p1.join()\n",
    "p2.join()\n",
    "\n",
    "print('Final Balance :',balance.value)"
   ]
  },
  {
   "cell_type": "markdown",
   "metadata": {},
   "source": [
    "<img src=\"lock.png\" />"
   ]
  },
  {
   "cell_type": "code",
   "execution_count": null,
   "metadata": {},
   "outputs": [],
   "source": []
  }
 ],
 "metadata": {
  "kernelspec": {
   "display_name": "Python 3",
   "language": "python",
   "name": "python3"
  },
  "language_info": {
   "codemirror_mode": {
    "name": "ipython",
    "version": 3
   },
   "file_extension": ".py",
   "mimetype": "text/x-python",
   "name": "python",
   "nbconvert_exporter": "python",
   "pygments_lexer": "ipython3",
   "version": "3.6.5"
  }
 },
 "nbformat": 4,
 "nbformat_minor": 2
}
