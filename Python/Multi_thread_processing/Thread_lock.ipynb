{
 "cells": [
  {
   "cell_type": "code",
   "execution_count": 1,
   "metadata": {},
   "outputs": [],
   "source": [
    "import threading"
   ]
  },
  {
   "cell_type": "markdown",
   "metadata": {},
   "source": [
    "### Simulating Critical section problem"
   ]
  },
  {
   "cell_type": "code",
   "execution_count": 2,
   "metadata": {},
   "outputs": [],
   "source": [
    "count = 0\n",
    "\n",
    "def inc(i):\n",
    "    global count\n",
    "    count_origional = count\n",
    "    count = count + 1\n",
    "    print(f\"Count_original: {count_origional} and after increment count = {count}\")\n"
   ]
  },
  {
   "cell_type": "code",
   "execution_count": 8,
   "metadata": {},
   "outputs": [
    {
     "name": "stdout",
     "output_type": "stream",
     "text": [
      "Count_original: 0 and after increment count = 1\n",
      "Count_original: 1 and after increment count = 2Count_original: 2 and after increment count = 3\n",
      "\n",
      "Count_original: 3 and after increment count = 4\n",
      "Count_original: 4 and after increment count = 5\n",
      "Count_original: 5 and after increment count = 6\n",
      "Count_original: 6 and after increment count = 7\n",
      "Count_original: 7 and after increment count = 8\n",
      "Count_original: 8 and after increment count = 9\n",
      "Count_original: 9 and after increment count = 10\n",
      "Count_original: 10 and after increment count = 11\n",
      "Count_original: 11 and after increment count = 12\n",
      "Count_original: 12 and after increment count = 13\n",
      "Count_original: 13 and after increment count = 14\n",
      "Count_original: 14 and after increment count = 15\n",
      "Count_original: 15 and after increment count = 16\n",
      "Count_original: 16 and after increment count = 17\n",
      "Count_original: 17 and after increment count = 18\n",
      "Count_original: 18 and after increment count = 19\n",
      "Count_original: 19 and after increment count = 20\n"
     ]
    }
   ],
   "source": [
    "mythreads = []\n",
    "for i in range(20):\n",
    "    mythreads.append(threading.Thread(target=inc, args=(i,)))\n",
    "    mythreads[i].start()\n",
    "    \n",
    "# Waiting for completion of each thread before exit\n",
    "for th in mythreads:\n",
    "    th.join()"
   ]
  },
  {
   "cell_type": "code",
   "execution_count": null,
   "metadata": {},
   "outputs": [],
   "source": []
  }
 ],
 "metadata": {
  "kernelspec": {
   "display_name": "Python 3",
   "language": "python",
   "name": "python3"
  },
  "language_info": {
   "codemirror_mode": {
    "name": "ipython",
    "version": 3
   },
   "file_extension": ".py",
   "mimetype": "text/x-python",
   "name": "python",
   "nbconvert_exporter": "python",
   "pygments_lexer": "ipython3",
   "version": "3.7.4"
  }
 },
 "nbformat": 4,
 "nbformat_minor": 2
}
