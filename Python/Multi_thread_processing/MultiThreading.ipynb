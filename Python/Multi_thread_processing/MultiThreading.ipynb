{
 "cells": [
  {
   "cell_type": "code",
   "execution_count": 3,
   "metadata": {},
   "outputs": [],
   "source": [
    "import threading\n",
    "import time"
   ]
  },
  {
   "cell_type": "code",
   "execution_count": 30,
   "metadata": {},
   "outputs": [],
   "source": [
    "def cal_squre(ls):\n",
    "    for i in ls:\n",
    "        time.sleep(0.2) #making it like io bound\n",
    "        print(i,\" squire :\", i*i)\n",
    "        \n",
    "def cal_cube(ls):\n",
    "   \n",
    "    for i in ls:\n",
    "        time.sleep(0.2) #making it like io bound\n",
    "        print(i,\" cube : \",i*i*i)"
   ]
  },
  {
   "cell_type": "markdown",
   "metadata": {},
   "source": [
    "# Normal program"
   ]
  },
  {
   "cell_type": "code",
   "execution_count": 31,
   "metadata": {},
   "outputs": [
    {
     "name": "stdout",
     "output_type": "stream",
     "text": [
      "4  squire : 16\n",
      "6  squire : 36\n",
      "7  squire : 49\n",
      "8  squire : 64\n",
      "9  squire : 81\n",
      "4  cube :  64\n",
      "6  cube :  216\n",
      "7  cube :  343\n",
      "8  cube :  512\n",
      "9  cube :  729\n",
      "Total Excution Time :  2006.8738460540771 Mili second\n"
     ]
    }
   ],
   "source": [
    "ls=[4,6,7,8,9]\n",
    "\n",
    "t1= time.time()\n",
    "\n",
    "cal_squre(ls)\n",
    "cal_cube(ls)\n",
    "\n",
    "print('Total Excution Time : ',(time.time()-t1)*1000,'Mili second')\n"
   ]
  },
  {
   "cell_type": "markdown",
   "metadata": {},
   "source": [
    "# Using Threading"
   ]
  },
  {
   "cell_type": "code",
   "execution_count": 32,
   "metadata": {},
   "outputs": [
    {
     "name": "stdout",
     "output_type": "stream",
     "text": [
      "4  squire : 16\n",
      "4  cube :  64\n",
      "6  squire : 36\n",
      "6  cube :  216\n",
      "7  squire : 49\n",
      "7  cube :  343\n",
      "8  squire : 64\n",
      "8  cube :  512\n",
      "9  squire : 81\n",
      "9  cube :  729\n",
      "Total Excution Time :  1006.7315101623535 Mili second\n"
     ]
    }
   ],
   "source": [
    "t1= time.time()\n",
    "\n",
    "th1 = threading.Thread(target=cal_squre, args=(ls,))\n",
    "th2 = threading.Thread(target=cal_cube, args=(ls,))\n",
    "th1.start()\n",
    "th2.start()\n",
    "\n",
    "th1.join() # wait here untill th1 thread is completed\n",
    "th2.join()\n",
    "print('Total Excution Time : ',(time.time()-t1)*1000,'Mili second')"
   ]
  },
  {
   "cell_type": "markdown",
   "metadata": {},
   "source": [
    "## Note : when thread is i/o based then threads is efficient we can see almost solve in half of the time"
   ]
  },
  {
   "cell_type": "markdown",
   "metadata": {},
   "source": [
    "# What if you use CPU bound threads"
   ]
  },
  {
   "cell_type": "code",
   "execution_count": 37,
   "metadata": {},
   "outputs": [],
   "source": [
    "def cal_squre(ls):\n",
    "    for i in ls:\n",
    "        print(i,\" squire :\", i*i)\n",
    "        \n",
    "def cal_cube(ls):\n",
    "   \n",
    "    for i in ls:\n",
    "        print(i,\" cube : \",i*i*i)"
   ]
  },
  {
   "cell_type": "code",
   "execution_count": 39,
   "metadata": {},
   "outputs": [
    {
     "name": "stdout",
     "output_type": "stream",
     "text": [
      "4  squire : 16\n",
      "6  squire : 36\n",
      "7  squire : 49\n",
      "8  squire : 64\n",
      "9  squire : 81\n",
      "12  squire : 144\n",
      "13  squire : 169\n",
      "15  squire : 225\n",
      "15  squire : 225\n",
      "19  squire : 361\n",
      "4  cube :  64\n",
      "6  cube :  216\n",
      "7  cube :  343\n",
      "8  cube :  512\n",
      "9  cube :  729\n",
      "12  cube :  1728\n",
      "13  cube :  2197\n",
      "15  cube :  3375\n",
      "15  cube :  3375\n",
      "19  cube :  6859\n",
      "Total Excution Time :  3.000020980834961 Mili second\n"
     ]
    }
   ],
   "source": [
    "ls=[4,6,7,8,9,12,13,15,15,19]\n",
    "\n",
    "t1= time.time()\n",
    "\n",
    "cal_squre(ls)\n",
    "cal_cube(ls)\n",
    "\n",
    "print('Total Excution Time : ',(time.time()-t1)*1000,'Mili second')\n"
   ]
  },
  {
   "cell_type": "code",
   "execution_count": 44,
   "metadata": {},
   "outputs": [
    {
     "name": "stdout",
     "output_type": "stream",
     "text": [
      "4  squire : 16\n",
      "6  squire : 36\n",
      "7  squire : 49\n",
      "8  squire : 64\n",
      "9  squire : 81\n",
      "12  squire : 144\n",
      "13  squire : 169\n",
      "15  squire : 225\n",
      "15  squire : 225\n",
      "19  squire : 361\n",
      "4  cube :  64\n",
      "6  cube :  216\n",
      "7  cube :  343\n",
      "8  cube :  512\n",
      "9  cube :  729\n",
      "12  cube :  1728\n",
      "13  cube :  2197\n",
      "15  cube :  3375\n",
      "15  cube :  3375\n",
      "19  cube :  6859\n",
      "Total Excution Time :  6.778955459594727 Mili second\n"
     ]
    }
   ],
   "source": [
    "t1= time.time()\n",
    "\n",
    "th1 = threading.Thread(target=cal_squre, args=(ls,))\n",
    "th2 = threading.Thread(target=cal_cube, args=(ls,))\n",
    "th1.start()\n",
    "th2.start()\n",
    "\n",
    "th1.join() # wait here untill th1 thread is completed\n",
    "th2.join()\n",
    "print('Total Excution Time : ',(time.time()-t1)*1000,'Mili second')"
   ]
  },
  {
   "cell_type": "markdown",
   "metadata": {},
   "source": [
    "# Here thread overhead is more , so excution time is exceeded from normal unthreded program"
   ]
  },
  {
   "cell_type": "raw",
   "metadata": {},
   "source": [
    "# Multiple processes are heavier than multiple threads, so, keep in mind that this could become a scaling bottleneck. "
   ]
  },
  {
   "cell_type": "code",
   "execution_count": null,
   "metadata": {},
   "outputs": [],
   "source": []
  }
 ],
 "metadata": {
  "kernelspec": {
   "display_name": "Python 3",
   "language": "python",
   "name": "python3"
  },
  "language_info": {
   "codemirror_mode": {
    "name": "ipython",
    "version": 3
   },
   "file_extension": ".py",
   "mimetype": "text/x-python",
   "name": "python",
   "nbconvert_exporter": "python",
   "pygments_lexer": "ipython3",
   "version": "3.7.4"
  }
 },
 "nbformat": 4,
 "nbformat_minor": 2
}
