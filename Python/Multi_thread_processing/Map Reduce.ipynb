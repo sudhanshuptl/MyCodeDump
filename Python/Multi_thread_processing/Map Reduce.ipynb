{
 "cells": [
  {
   "cell_type": "markdown",
   "metadata": {},
   "source": [
    "# Map Reduce\n",
    "* Divide the big independent problem automaticaly and solve is called ```map```\n",
    "* aggregating result in sequnce is called ```reduce```"
   ]
  },
  {
   "cell_type": "code",
   "execution_count": 1,
   "metadata": {},
   "outputs": [],
   "source": [
    "from multiprocessing import Pool\n",
    "import time"
   ]
  },
  {
   "cell_type": "code",
   "execution_count": 3,
   "metadata": {},
   "outputs": [],
   "source": [
    "def simple_sum(n):\n",
    "    sum_ = 0\n",
    "    for i in range(n):\n",
    "        sum_ +=i\n",
    "    return sum_"
   ]
  },
  {
   "cell_type": "code",
   "execution_count": 12,
   "metadata": {},
   "outputs": [
    {
     "name": "stdout",
     "output_type": "stream",
     "text": [
      "Time Elapse :, 3438.1814002990723 Mili seconds\n"
     ]
    }
   ],
   "source": [
    "t1 = time.time()\n",
    "result = []\n",
    "for i in range(10000):\n",
    "    result.append(simple_sum(i))\n",
    "\n",
    "print('Time Elapse :,', (time.time() - t1)*1000,'Mili seconds' )"
   ]
  },
  {
   "cell_type": "markdown",
   "metadata": {},
   "source": [
    "# Using map reduce"
   ]
  },
  {
   "cell_type": "code",
   "execution_count": 13,
   "metadata": {},
   "outputs": [
    {
     "name": "stdout",
     "output_type": "stream",
     "text": [
      "Time Elapse :, 2049.7183799743652 Mili seconds\n"
     ]
    }
   ],
   "source": [
    "t1 = time.time()\n",
    "P = Pool()\n",
    "result = P.map(simple_sum,list(range(10000)))\n",
    "P.close()\n",
    "P.join()\n",
    "print('Time Elapse :,', (time.time() - t1)*1000,'Mili seconds' )"
   ]
  },
  {
   "cell_type": "code",
   "execution_count": 15,
   "metadata": {},
   "outputs": [
    {
     "name": "stdout",
     "output_type": "stream",
     "text": [
      "[0, 0, 1, 3, 6, 10, 15, 21, 28, 36, 45, 55, 66, 78, 91, 105, 120, 136, 153, 171]\n"
     ]
    }
   ],
   "source": [
    "print(result[:20])"
   ]
  },
  {
   "cell_type": "markdown",
   "metadata": {},
   "source": [
    "# Note : Pool automatically divide problem and aggregate results\n",
    "* time is more efficient when problem is big else there is no difference or pool might get more costly"
   ]
  },
  {
   "cell_type": "code",
   "execution_count": null,
   "metadata": {},
   "outputs": [],
   "source": []
  }
 ],
 "metadata": {
  "kernelspec": {
   "display_name": "Python 3",
   "language": "python",
   "name": "python3"
  },
  "language_info": {
   "codemirror_mode": {
    "name": "ipython",
    "version": 3
   },
   "file_extension": ".py",
   "mimetype": "text/x-python",
   "name": "python",
   "nbconvert_exporter": "python",
   "pygments_lexer": "ipython3",
   "version": "3.6.5"
  }
 },
 "nbformat": 4,
 "nbformat_minor": 2
}
