{
 "cells": [
  {
   "cell_type": "raw",
   "metadata": {},
   "source": [
    "To connect run:\n",
    "    mysql -uroot\n",
    "\n",
    "To have launchd start mysql now and restart at login:\n",
    "  brew services start mysql\n",
    "Or, if you don't want/need a background service you can just run:\n",
    "  mysql.server start\n",
    "\n",
    "brew services stop mysql\n",
    "\n",
    "# create database iopex\n",
    "# use iopex;"
   ]
  },
  {
   "cell_type": "code",
   "execution_count": 2,
   "metadata": {},
   "outputs": [
    {
     "name": "stdout",
     "output_type": "stream",
     "text": [
      "Requirement already satisfied: pymysql in /usr/local/lib/python3.7/site-packages (0.9.3)\r\n"
     ]
    }
   ],
   "source": [
    "!python3 -m pip install pymysql"
   ]
  },
  {
   "cell_type": "code",
   "execution_count": 22,
   "metadata": {},
   "outputs": [],
   "source": [
    "import pymysql"
   ]
  },
  {
   "cell_type": "code",
   "execution_count": 24,
   "metadata": {},
   "outputs": [
    {
     "data": {
      "text/plain": [
       "pymysql.err.Error"
      ]
     },
     "execution_count": 24,
     "metadata": {},
     "output_type": "execute_result"
    }
   ],
   "source": [
    "pymysql.err.Error"
   ]
  },
  {
   "cell_type": "code",
   "execution_count": 8,
   "metadata": {},
   "outputs": [],
   "source": [
    "#taking database connections\n",
    "conection = pymysql.connect(host='127.0.0.1', user='root', password='', database='iopex')"
   ]
  },
  {
   "cell_type": "code",
   "execution_count": 9,
   "metadata": {},
   "outputs": [
    {
     "data": {
      "text/plain": [
       "<pymysql.cursors.Cursor at 0x1057b67d0>"
      ]
     },
     "execution_count": 9,
     "metadata": {},
     "output_type": "execute_result"
    }
   ],
   "source": [
    "# creating a cursor\n",
    "cur = conection.cursor()\n",
    "cur"
   ]
  },
  {
   "cell_type": "code",
   "execution_count": 17,
   "metadata": {},
   "outputs": [
    {
     "name": "stderr",
     "output_type": "stream",
     "text": [
      "/usr/local/lib/python3.7/site-packages/pymysql/cursors.py:170: Warning: (1681, 'Integer display width is deprecated and will be removed in a future release.')\n",
      "  result = self._query(query)\n"
     ]
    },
    {
     "data": {
      "text/plain": [
       "0"
      ]
     },
     "execution_count": 17,
     "metadata": {},
     "output_type": "execute_result"
    }
   ],
   "source": [
    "query = '''create table employees (id INT(6) UNSIGNED AUTO_INCREMENT PRIMARY KEY,\n",
    "                                    name VARCHAR(100),\n",
    "                                    password VARCHAR(500) )'''\n",
    "cur.execute(query)"
   ]
  },
  {
   "cell_type": "code",
   "execution_count": 19,
   "metadata": {},
   "outputs": [],
   "source": [
    "cur.close()"
   ]
  },
  {
   "cell_type": "code",
   "execution_count": 30,
   "metadata": {},
   "outputs": [
    {
     "name": "stdout",
     "output_type": "stream",
     "text": [
      "1\n"
     ]
    }
   ],
   "source": [
    "# insert into table \n",
    "with conection.cursor() as cur:\n",
    "    query = 'insert into employees (name, password) values( %s, %s )'\n",
    "    count = cur.execute(query,('Sudhanshu', 'password'))\n",
    "    print(count) #affected rows\n",
    "    if count == 1:\n",
    "        cur.execute('commit') # insertion will not be finalised untill commit\n",
    "    else:\n",
    "        pass\n",
    "        # we can rollabck\n",
    "    cur.close()"
   ]
  },
  {
   "cell_type": "code",
   "execution_count": 31,
   "metadata": {},
   "outputs": [
    {
     "name": "stdout",
     "output_type": "stream",
     "text": [
      "3\n",
      "commiting the changes\n"
     ]
    }
   ],
   "source": [
    "# Bulk insert\n",
    "data = [('abhishek', 'pass1'), ('ashutosh', 'pass2'), ('Vikash','pass4')]\n",
    "with conection.cursor() as cur:\n",
    "    query = 'insert into employees (name, password) values( %s, %s )'\n",
    "    count = cur.executemany(query,data)\n",
    "    print(count) #affected rows\n",
    "    if count > 0:\n",
    "        print('commiting the changes')\n",
    "        cur.execute('commit') # insertion will not be finalised untill commit\n",
    "    else:\n",
    "        pass\n",
    "        # we can rollabck"
   ]
  },
  {
   "cell_type": "code",
   "execution_count": 40,
   "metadata": {},
   "outputs": [
    {
     "name": "stdout",
     "output_type": "stream",
     "text": [
      "8\n"
     ]
    }
   ],
   "source": [
    "# select daat from table\n",
    "cur = conection.cursor()\n",
    "query = 'select * from employees;'\n",
    "count = cur.execute(query)\n",
    "print(count) #affected rows\n"
   ]
  },
  {
   "cell_type": "code",
   "execution_count": 41,
   "metadata": {},
   "outputs": [
    {
     "data": {
      "text/plain": [
       "8"
      ]
     },
     "execution_count": 41,
     "metadata": {},
     "output_type": "execute_result"
    }
   ],
   "source": [
    "cur.rowcount"
   ]
  },
  {
   "cell_type": "code",
   "execution_count": 37,
   "metadata": {},
   "outputs": [
    {
     "data": {
      "text/plain": [
       "(1, 'Sudhanshu', 'password')"
      ]
     },
     "execution_count": 37,
     "metadata": {},
     "output_type": "execute_result"
    }
   ],
   "source": [
    "cur.fetchone() # to get on record"
   ]
  },
  {
   "cell_type": "code",
   "execution_count": 39,
   "metadata": {},
   "outputs": [
    {
     "data": {
      "text/plain": [
       "((3, 'Sudhanshu', 'password'),\n",
       " (4, 'Sudhanshu', 'password'),\n",
       " (5, 'Sudhanshu', 'password'),\n",
       " (6, 'abhishek', 'pass1'),\n",
       " (7, 'ashutosh', 'pass2'),\n",
       " (8, 'Vikash', 'pass4'))"
      ]
     },
     "execution_count": 39,
     "metadata": {},
     "output_type": "execute_result"
    }
   ],
   "source": [
    "cur.fetchall() # to fetch all "
   ]
  },
  {
   "cell_type": "code",
   "execution_count": 42,
   "metadata": {},
   "outputs": [
    {
     "data": {
      "text/plain": [
       "((1, 'Sudhanshu', 'password'),\n",
       " (2, 'Sudhanshu', 'password'),\n",
       " (3, 'Sudhanshu', 'password'))"
      ]
     },
     "execution_count": 42,
     "metadata": {},
     "output_type": "execute_result"
    }
   ],
   "source": [
    "cur.fetchmany(3) # to get next n records"
   ]
  },
  {
   "cell_type": "code",
   "execution_count": 43,
   "metadata": {},
   "outputs": [
    {
     "data": {
      "text/plain": [
       "((4, 'Sudhanshu', 'password'),\n",
       " (5, 'Sudhanshu', 'password'),\n",
       " (6, 'abhishek', 'pass1'))"
      ]
     },
     "execution_count": 43,
     "metadata": {},
     "output_type": "execute_result"
    }
   ],
   "source": [
    "cur.fetchmany(3)"
   ]
  },
  {
   "cell_type": "code",
   "execution_count": 44,
   "metadata": {},
   "outputs": [
    {
     "data": {
      "text/plain": [
       "((7, 'ashutosh', 'pass2'), (8, 'Vikash', 'pass4'))"
      ]
     },
     "execution_count": 44,
     "metadata": {},
     "output_type": "execute_result"
    }
   ],
   "source": [
    "cur.fetchmany(3)"
   ]
  },
  {
   "cell_type": "code",
   "execution_count": 46,
   "metadata": {},
   "outputs": [],
   "source": [
    "cur.close()"
   ]
  },
  {
   "cell_type": "code",
   "execution_count": 47,
   "metadata": {},
   "outputs": [],
   "source": [
    "conection.close()"
   ]
  },
  {
   "cell_type": "code",
   "execution_count": 49,
   "metadata": {},
   "outputs": [
    {
     "name": "stdout",
     "output_type": "stream",
     "text": [
      "(1049, \"Unknown database 'abc'\")\n"
     ]
    }
   ],
   "source": [
    "try:\n",
    "    conection = pymysql.connect(host='127.0.0.1', user='root', password='', database='abc')\n",
    "except pymysql.err.Error as e:\n",
    "    print(e)"
   ]
  }
 ],
 "metadata": {
  "kernelspec": {
   "display_name": "Python 3",
   "language": "python",
   "name": "python3"
  },
  "language_info": {
   "codemirror_mode": {
    "name": "ipython",
    "version": 3
   },
   "file_extension": ".py",
   "mimetype": "text/x-python",
   "name": "python",
   "nbconvert_exporter": "python",
   "pygments_lexer": "ipython3",
   "version": "3.7.4"
  }
 },
 "nbformat": 4,
 "nbformat_minor": 2
}
