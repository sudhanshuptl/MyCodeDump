{
 "cells": [
  {
   "cell_type": "markdown",
   "metadata": {},
   "source": [
    "<h4> Pandas is hight level fromework built on top of numpy,scipy, meplotlib specialy used for efficeint data manupulation analysis.it uses numpy that can intregrate with c/c++.\n",
    "</h4>\n",
    "<h1> Why Pandas ?<h1>\n",
    "<h6>for Efficeint data manupulation and analysis</h6>\n"
   ]
  },
  {
   "cell_type": "code",
   "execution_count": 1,
   "metadata": {},
   "outputs": [],
   "source": [
    "import pandas as pd"
   ]
  },
  {
   "cell_type": "code",
   "execution_count": 4,
   "metadata": {},
   "outputs": [],
   "source": [
    "codecops_in = {'Day':[1,2,3,4,5,6],'Visitors':[1000,700,6000,5000,350,4450], 'Bounce_rate':[20,15,23,50,40,34]}"
   ]
  },
  {
   "cell_type": "code",
   "execution_count": 6,
   "metadata": {},
   "outputs": [
    {
     "name": "stdout",
     "output_type": "stream",
     "text": [
      "   Day  Visitors  Bounce_rate\n",
      "0    1      1000           20\n",
      "1    2       700           15\n",
      "2    3      6000           23\n",
      "3    4      5000           50\n",
      "4    5       350           40\n",
      "5    6      4450           34\n"
     ]
    }
   ],
   "source": [
    "#create pandas dataframe\n",
    "df = pd.DataFrame(codecops_in) #Size of each list should be same\n",
    "print(df)"
   ]
  },
  {
   "cell_type": "code",
   "execution_count": 14,
   "metadata": {},
   "outputs": [
    {
     "name": "stdout",
     "output_type": "stream",
     "text": [
      "   Day  Visitors  Bounce_rate\n",
      "0    1      1000           20\n",
      "1    2       700           15\n",
      "\n",
      "\n",
      "last two row\n",
      "\n",
      "   Day  Visitors  Bounce_rate\n",
      "4    5       350           40\n",
      "5    6      4450           34\n"
     ]
    }
   ],
   "source": [
    "# Slicing\n",
    "print(df[:2]) #print first two rows # alternate df.head(2)\n",
    "\n",
    "print('\\n\\nlast two row\\n')\n",
    "print(df[-2:]) #print last two rows # alternate df.tail(2)"
   ]
  },
  {
   "cell_type": "code",
   "execution_count": 21,
   "metadata": {},
   "outputs": [
    {
     "name": "stdout",
     "output_type": "stream",
     "text": [
      "      HPI  Int_rate  Ind_GDP\n",
      "2001   10         2       50\n",
      "2002   90         1       45\n",
      "2003   70         3       67\n",
      "2004   60         2       45\n",
      "__Merge_____\n",
      "\n",
      "\n",
      "   HPI  Int_rate  Ind_GDP\n",
      "0   90         1       45\n",
      "1   70         3       67\n",
      "2   60         2       45\n"
     ]
    }
   ],
   "source": [
    "# merging\n",
    "#Manual indexing\n",
    "df1 = pd.DataFrame({'HPI':[10,90,70,60],'Int_rate':[2,1,3,2],'Ind_GDP':[50,45,67,45]},index=[2001,2002,2003,2004])\n",
    "df2 = pd.DataFrame({'HPI':[20,90,70,60],'Int_rate':[2,1,3,2],'Ind_GDP':[50,45,67,45]},index=[2001,2002,2003,2004])\n",
    "\n",
    "print(df1)\n",
    "\n",
    "print('__Merge_____\\n\\n') #eleiminate all uncommon data\n",
    "merge = pd.merge(df1,df2) #eleiminate all uncommon data\n",
    "print(merge)"
   ]
  },
  {
   "cell_type": "code",
   "execution_count": 25,
   "metadata": {},
   "outputs": [
    {
     "name": "stdout",
     "output_type": "stream",
     "text": [
      "   HPI  Int_rate_x  Ind_GDP_x  Int_rate_y  Ind_GDP_y\n",
      "0   10           2         50           2         40\n",
      "1   90           1         45           1         45\n",
      "2   70           3         67           3         67\n",
      "3   60           2         45           2         45\n"
     ]
    }
   ],
   "source": [
    "df1 = pd.DataFrame({'HPI':[10,90,70,60],'Int_rate':[2,1,3,2],'Ind_GDP':[50,45,67,45]},index=[2001,2002,2003,2004])\n",
    "df2 = pd.DataFrame({'HPI':[10,90,70,60],'Int_rate':[2,1,3,2],'Ind_GDP':[40,45,67,45]},index=[2001,2002,2003,2004])\n",
    "\n",
    "merge = pd.merge(df1,df2, on = 'HPI') #eleiminate all uncommon data based on HPI field\n",
    "#if any other mismatch find overide it value on df2 \n",
    "print(merge)"
   ]
  },
  {
   "cell_type": "code",
   "execution_count": 34,
   "metadata": {},
   "outputs": [
    {
     "name": "stdout",
     "output_type": "stream",
     "text": [
      "      HPI  Int_rate  Ind_GDP  Low_Tier_HPI  Unemployment\n",
      "2001   10         2       50           200            40\n",
      "2002   90         1       45            41            45\n",
      "2003   70         3       67            63            67\n",
      "2004   60         2       45            42            45\n"
     ]
    }
   ],
   "source": [
    "# Joining\n",
    "df1 = pd.DataFrame({'HPI':[10,90,70,60],'Int_rate':[2,1,3,2],'Ind_GDP':[50,45,67,45]},index=[2001,2002,2003,2004])\n",
    "df2 = pd.DataFrame({'Low_Tier_HPI':[200,41,63,42,56],'Unemployment':[40,45,67,45,76]},index=[2001,2002,2003,2004,2005])\n",
    "\n",
    "joined = df1.join(df2) #join performed on same index, if common filed exist then need to give data about its name\n",
    "print(joined)\n"
   ]
  },
  {
   "cell_type": "code",
   "execution_count": null,
   "metadata": {},
   "outputs": [],
   "source": []
  }
 ],
 "metadata": {
  "kernelspec": {
   "display_name": "Python 3",
   "language": "python",
   "name": "python3"
  },
  "language_info": {
   "codemirror_mode": {
    "name": "ipython",
    "version": 3
   },
   "file_extension": ".py",
   "mimetype": "text/x-python",
   "name": "python",
   "nbconvert_exporter": "python",
   "pygments_lexer": "ipython3",
   "version": "3.6.5"
  }
 },
 "nbformat": 4,
 "nbformat_minor": 2
}
