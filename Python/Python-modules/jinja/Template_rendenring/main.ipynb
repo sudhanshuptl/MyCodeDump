{
 "cells": [
  {
   "cell_type": "code",
   "execution_count": 26,
   "metadata": {},
   "outputs": [],
   "source": [
    "from jinja2 import Template\n",
    "import os\n",
    "import yaml"
   ]
  },
  {
   "cell_type": "code",
   "execution_count": 39,
   "metadata": {},
   "outputs": [],
   "source": [
    "\n",
    "def get_config(path, file_name='config.yml'):\n",
    "    with open(os.path.join(path, file_name), 'r') as f:\n",
    "        return yaml.load(f)\n",
    "\n",
    "\n",
    "def get_template(path, template_name):\n",
    "    with open(os.path.join(path, template_name), 'r') as f:\n",
    "        return f.read()\n",
    "\n",
    "\n",
    "def render_template(config: dict, template: str):\n",
    "    data = dict()\n",
    "    data['Name'] = config['Name']\n",
    "    data['favorite_lang'] = config['Programming_Lang'][0]\n",
    "    try:\n",
    "        template = Template(template)\n",
    "        return template.render(**data)\n",
    "    except Exception as e:\n",
    "        print('Error while rendering template: ',e)\n",
    "        return None\n",
    "\n"
   ]
  },
  {
   "cell_type": "code",
   "execution_count": 38,
   "metadata": {},
   "outputs": [
    {
     "data": {
      "text/plain": [
       "2"
      ]
     },
     "execution_count": 38,
     "metadata": {},
     "output_type": "execute_result"
    }
   ],
   "source": [
    "    path = os.getcwd()\n",
    "    try:\n",
    "        config = get_config(os.path.join(path, 'configDir'), 'config.yml')\n",
    "        my_template = get_template(os.path.join(path, 'template'), 'main_template.tf')\n",
    "    except FileNotFoundError:\n",
    "        print('File Not Found :', e)\n",
    "    except Exception as e:\n",
    "        print(e)\n",
    "\n",
    "    print(render_template(config, my_template))\n",
    "\n",
    "\n"
   ]
  },
  {
   "cell_type": "code",
   "execution_count": null,
   "metadata": {},
   "outputs": [],
   "source": []
  }
 ],
 "metadata": {
  "kernelspec": {
   "display_name": "Python 3",
   "language": "python",
   "name": "python3"
  },
  "language_info": {
   "codemirror_mode": {
    "name": "ipython",
    "version": 3
   },
   "file_extension": ".py",
   "mimetype": "text/x-python",
   "name": "python",
   "nbconvert_exporter": "python",
   "pygments_lexer": "ipython3",
   "version": "3.7.1"
  }
 },
 "nbformat": 4,
 "nbformat_minor": 2
}
