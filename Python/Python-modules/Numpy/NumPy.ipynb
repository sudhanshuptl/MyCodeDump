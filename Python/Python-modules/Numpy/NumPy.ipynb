{
 "cells": [
  {
   "cell_type": "raw",
   "metadata": {},
   "source": [
    "Core Library for scintific Computing\n",
    "High Performance"
   ]
  },
  {
   "cell_type": "code",
   "execution_count": 1,
   "metadata": {},
   "outputs": [],
   "source": [
    "import numpy as np\n",
    "import time, sys"
   ]
  },
  {
   "cell_type": "code",
   "execution_count": 3,
   "metadata": {},
   "outputs": [
    {
     "name": "stdout",
     "output_type": "stream",
     "text": [
      "[1 2 3 4]\n"
     ]
    }
   ],
   "source": [
    "#One dimentional array\n",
    "a = np.array([1,2,3,4])\n",
    "print(a)"
   ]
  },
  {
   "cell_type": "code",
   "execution_count": 4,
   "metadata": {},
   "outputs": [
    {
     "name": "stdout",
     "output_type": "stream",
     "text": [
      "[[1 2 3]\n",
      " [4 5 6]]\n"
     ]
    }
   ],
   "source": [
    "#two dimentional array\n",
    "a = np.array([(1,2,3),(4,5,6)])\n",
    "print(a)"
   ]
  },
  {
   "cell_type": "markdown",
   "metadata": {},
   "source": [
    "## Numpy is Fast\n",
    "## uses less memory compare to list\n",
    "## Convenient"
   ]
  },
  {
   "cell_type": "code",
   "execution_count": 8,
   "metadata": {},
   "outputs": [
    {
     "name": "stdout",
     "output_type": "stream",
     "text": [
      "Size of list :  28000\n",
      "Size of numpy array :  8000\n"
     ]
    }
   ],
   "source": [
    "# Memory Campare\n",
    "s = range(1000)\n",
    "print('Size of list : ',sys.getsizeof(5)*len(s))\n",
    "\n",
    "a = np.arange(1000)\n",
    "print('Size of numpy array : ', a.size*a.itemsize)"
   ]
  },
  {
   "cell_type": "code",
   "execution_count": 19,
   "metadata": {},
   "outputs": [
    {
     "name": "stdout",
     "output_type": "stream",
     "text": [
      "Time taken for List:  57.721614837646484 Mili seconds\n",
      "Time taken for Numpy Array:  6.27589225769043 Mili seconds\n"
     ]
    }
   ],
   "source": [
    "# Speed\n",
    "SIZE=100000\n",
    "\n",
    "start = time.time()\n",
    "l1 = range(SIZE)\n",
    "l2 = range(SIZE)\n",
    "\n",
    "#adding all element\n",
    "result = [x+y for x,y in zip(l1,l2)]\n",
    "print('Time taken for List: ', (time.time()-start)*1000,'Mili seconds')\n",
    "\n",
    "\n",
    "start1 = time.time()\n",
    "a1 = np.arange(SIZE)\n",
    "a2 = np.arange(SIZE)\n",
    "result2 = a1+a2 # Convenient \n",
    "print('Time taken for Numpy Array: ', (time.time()-start1)*1000,'Mili seconds')"
   ]
  },
  {
   "cell_type": "markdown",
   "metadata": {},
   "source": [
    "### Play With Dimentions and Slicing"
   ]
  },
  {
   "cell_type": "code",
   "execution_count": 25,
   "metadata": {},
   "outputs": [
    {
     "name": "stdout",
     "output_type": "stream",
     "text": [
      "Bytesize of each element 8\n",
      "Dimention of array  2\n",
      "data type stored in array  int64\n",
      "Size of array , means number of elements : 6\n",
      "shape of array menas number of rows and cols :   (2, 3)\n"
     ]
    }
   ],
   "source": [
    "a = np.array([(1,2,3),(4,5,6)])\n",
    "\n",
    "print('Bytesize of each element', a.itemsize )\n",
    "print('Dimention of array ',a.ndim )\n",
    "print('data type stored in array ',a.dtype )\n",
    "print('Size of array , means number of elements :',a.size )\n",
    "print('shape of array menas number of rows and cols :  ',a.shape )"
   ]
  },
  {
   "cell_type": "markdown",
   "metadata": {},
   "source": [
    "### Reshape and slicing"
   ]
  },
  {
   "cell_type": "code",
   "execution_count": 35,
   "metadata": {},
   "outputs": [
    {
     "name": "stdout",
     "output_type": "stream",
     "text": [
      "[[1 2 3]\n",
      " [4 5 6]]\n",
      "reshape:\n",
      " [[1 2]\n",
      " [3 4]\n",
      " [5 6]]\n",
      "reshape:\n",
      " [[1]\n",
      " [2]\n",
      " [3]\n",
      " [4]\n",
      " [5]\n",
      " [6]]\n"
     ]
    }
   ],
   "source": [
    "#reshape\n",
    "a = np.array([(1,2,3),(4,5,6)])\n",
    "print(a)\n",
    "print('reshape:\\n',a.reshape(3,2)) \n",
    "#reshape(number of rows,number of column)\n",
    "print('reshape:\\n',a.reshape(6,1)) \n",
    "#it will thoug error if reshape dimention is not possible with available elements"
   ]
  },
  {
   "cell_type": "code",
   "execution_count": 42,
   "metadata": {},
   "outputs": [
    {
     "name": "stdout",
     "output_type": "stream",
     "text": [
      "print value 3 : 3\n",
      "print all elemnt of 3rd column :> [3 6 9]\n",
      "print all elemnt of 3rd column for row less than 2 :> [3 6]\n"
     ]
    }
   ],
   "source": [
    "#slicing\n",
    "a = np.array([(1,2,3),(4,5,6),(7,8,9)])\n",
    "print('print value 3 :',a[0,2])\n",
    "print('print all elemnt of 3rd column :>', a[0:,2])\n",
    "print('print all elemnt of 3rd column for row less than 2 :>', a[0:2,2])"
   ]
  },
  {
   "cell_type": "code",
   "execution_count": 50,
   "metadata": {},
   "outputs": [
    {
     "name": "stdout",
     "output_type": "stream",
     "text": [
      "[1. 2. 3. 4. 5.]\n",
      "\n",
      "[1.  1.2 1.4 1.6 1.8 2. ]\n"
     ]
    }
   ],
   "source": [
    "# generating equaly distributed numbers\n",
    "a= np.linspace(1,5,5) # (lower limit,upper limit,number of partition)\n",
    "print(a,end='\\n\\n')\n",
    "\n",
    "a= np.linspace(1,2,6) # (lower limit,upper limit,number of partition)\n",
    "print(a)"
   ]
  },
  {
   "cell_type": "markdown",
   "metadata": {},
   "source": [
    "## Standard Functions"
   ]
  },
  {
   "cell_type": "code",
   "execution_count": 58,
   "metadata": {},
   "outputs": [
    {
     "name": "stdout",
     "output_type": "stream",
     "text": [
      "Min : 1\n",
      "Max : 9\n",
      "Mean : 5.0\n",
      "Standerd deviation : 2.581988897471611\n"
     ]
    }
   ],
   "source": [
    "#min max sum\n",
    "a = np.array([(1,2,3),(4,5,6),(7,8,9)])\n",
    "\n",
    "print('Min :',a.min())\n",
    "print('Max :',a.max())\n",
    "print('Mean :',a.mean())\n",
    "print('Standerd deviation :',a.std())"
   ]
  },
  {
   "cell_type": "code",
   "execution_count": 65,
   "metadata": {},
   "outputs": [
    {
     "name": "stdout",
     "output_type": "stream",
     "text": [
      "[[1 2 3]\n",
      " [4 5 6]\n",
      " [7 8 9]]\n",
      "Sum of each row : [ 6 15 24]\n",
      "Sum of each col : [12 15 18]\n"
     ]
    }
   ],
   "source": [
    "# Axis\n",
    "# Row is axis 1 and col is axis o\n",
    "\n",
    "a = np.array([(1,2,3),(4,5,6),(7,8,9)])\n",
    "print(a)\n",
    "print('Sum of each row :',a.sum(axis=1))\n",
    "print('Sum of each col :',a.sum(axis=0))\n",
    "\n"
   ]
  },
  {
   "cell_type": "code",
   "execution_count": 69,
   "metadata": {},
   "outputs": [
    {
     "name": "stdout",
     "output_type": "stream",
     "text": [
      "[[1 2 3]\n",
      " [4 5 6]\n",
      " [7 8 9]]\n",
      "Squre root\n",
      " [[1.         1.41421356 1.73205081]\n",
      " [2.         2.23606798 2.44948974]\n",
      " [2.64575131 2.82842712 3.        ]]\n"
     ]
    }
   ],
   "source": [
    "# Finding squire root of each element\n",
    "print(a)\n",
    "print('Squre root\\n',np.sqrt(a))"
   ]
  },
  {
   "cell_type": "code",
   "execution_count": 71,
   "metadata": {},
   "outputs": [
    {
     "name": "stdout",
     "output_type": "stream",
     "text": [
      "[[ 2  4  6]\n",
      " [ 8 10 12]\n",
      " [14 16 18]]\n"
     ]
    }
   ],
   "source": [
    "#adding two array is vector addtion unlike python list addition that lead to concatination\n",
    "a1 = np.array([(1,2,3),(4,5,6),(7,8,9)])\n",
    "a2 = np.array([(1,2,3),(4,5,6),(7,8,9)])\n",
    "print(a1+a2)"
   ]
  },
  {
   "cell_type": "code",
   "execution_count": 72,
   "metadata": {},
   "outputs": [
    {
     "name": "stdout",
     "output_type": "stream",
     "text": [
      "[[ 1  4  9]\n",
      " [16 25 36]\n",
      " [49 64 81]]\n"
     ]
    }
   ],
   "source": [
    "print(a1*a2)"
   ]
  },
  {
   "cell_type": "code",
   "execution_count": 73,
   "metadata": {},
   "outputs": [
    {
     "name": "stdout",
     "output_type": "stream",
     "text": [
      "[[1. 1. 1.]\n",
      " [1. 1. 1.]\n",
      " [1. 1. 1.]]\n"
     ]
    }
   ],
   "source": [
    "print(a1/a2)"
   ]
  },
  {
   "cell_type": "code",
   "execution_count": 74,
   "metadata": {},
   "outputs": [
    {
     "name": "stdout",
     "output_type": "stream",
     "text": [
      "[[0 0 0]\n",
      " [0 0 0]\n",
      " [0 0 0]]\n"
     ]
    }
   ],
   "source": [
    "print(a1-a2)"
   ]
  },
  {
   "cell_type": "markdown",
   "metadata": {},
   "source": [
    "## Concatination of array"
   ]
  },
  {
   "cell_type": "code",
   "execution_count": 79,
   "metadata": {},
   "outputs": [
    {
     "name": "stdout",
     "output_type": "stream",
     "text": [
      "[[1 2 3]\n",
      " [4 5 6]\n",
      " [7 8 9]\n",
      " [1 2 3]\n",
      " [4 5 6]\n",
      " [7 8 9]]\n"
     ]
    }
   ],
   "source": [
    "# vertical and horizontal stacking\n",
    "print(np.vstack((a1,a2))) #array 2 is verticaly added"
   ]
  },
  {
   "cell_type": "code",
   "execution_count": 80,
   "metadata": {},
   "outputs": [
    {
     "name": "stdout",
     "output_type": "stream",
     "text": [
      "[[1 2 3 1 2 3]\n",
      " [4 5 6 4 5 6]\n",
      " [7 8 9 7 8 9]]\n"
     ]
    }
   ],
   "source": [
    "# vertical and horizontal stacking\n",
    "print(np.hstack((a1,a2))) #array 2 is horizontaly added"
   ]
  },
  {
   "cell_type": "code",
   "execution_count": 83,
   "metadata": {},
   "outputs": [
    {
     "name": "stdout",
     "output_type": "stream",
     "text": [
      "[1 2 3 4 5 6 7 8 9]\n"
     ]
    }
   ],
   "source": [
    "## Print all data in single column\n",
    "print(a1.ravel())"
   ]
  },
  {
   "cell_type": "markdown",
   "metadata": {},
   "source": [
    "## Numpy Special function\n",
    "### Sin and cosin func"
   ]
  },
  {
   "cell_type": "code",
   "execution_count": 2,
   "metadata": {},
   "outputs": [],
   "source": [
    "import matplotlib.pyplot as plt"
   ]
  },
  {
   "cell_type": "code",
   "execution_count": 10,
   "metadata": {},
   "outputs": [
    {
     "name": "stdout",
     "output_type": "stream",
     "text": [
      "[0.  0.1 0.2 0.3 0.4 0.5 0.6 0.7 0.8 0.9 1.  1.1 1.2 1.3 1.4 1.5 1.6 1.7\n",
      " 1.8 1.9 2.  2.1 2.2 2.3 2.4 2.5 2.6 2.7 2.8 2.9 3.  3.1 3.2 3.3 3.4 3.5\n",
      " 3.6 3.7 3.8 3.9 4.  4.1 4.2 4.3 4.4 4.5 4.6 4.7 4.8 4.9 5.  5.1 5.2 5.3\n",
      " 5.4 5.5 5.6 5.7 5.8 5.9 6.  6.1 6.2 6.3 6.4 6.5 6.6 6.7 6.8 6.9 7.  7.1\n",
      " 7.2 7.3 7.4 7.5 7.6 7.7 7.8 7.9 8.  8.1 8.2 8.3 8.4 8.5 8.6 8.7 8.8 8.9\n",
      " 9.  9.1 9.2 9.3 9.4]\n",
      "Sin graph\n"
     ]
    },
    {
     "data": {
      "image/png": "[encoded data removed]",
      "text/plain": [
       "<Figure size 432x288 with 1 Axes>"
      ]
     },
     "metadata": {},
     "output_type": "display_data"
    },
    {
     "name": "stdout",
     "output_type": "stream",
     "text": [
      "cos graph\n"
     ]
    },
    {
     "data": {
      "image/png": "[encoded data removed]",
      "text/plain": [
       "<Figure size 432x288 with 1 Axes>"
      ]
     },
     "metadata": {},
     "output_type": "display_data"
    },
    {
     "name": "stdout",
     "output_type": "stream",
     "text": [
      "Tan graph\n"
     ]
    },
    {
     "data": {
      "image/png": "[encoded data removed]",
      "text/plain": [
       "<Figure size 432x288 with 1 Axes>"
      ]
     },
     "metadata": {},
     "output_type": "display_data"
    }
   ],
   "source": [
    "x = np.arange(0,3*np.pi,0.1) #array from 0 to 3*pi with step 0.1\n",
    "y = np.sin(x)\n",
    "print(x)\n",
    "\n",
    "print('Sin graph')\n",
    "plt.plot(x,y)\n",
    "plt.show()\n",
    "\n",
    "print('cos graph')\n",
    "plt.plot(x,np.cos(x))\n",
    "plt.show()\n",
    "\n",
    "print('Tan graph')\n",
    "plt.plot(x,np.tan(x))\n",
    "plt.show()"
   ]
  },
  {
   "cell_type": "code",
   "execution_count": 14,
   "metadata": {},
   "outputs": [
    {
     "name": "stdout",
     "output_type": "stream",
     "text": [
      "[1 2 3 4 5]\n",
      "e power ar :  [  2.71828183   7.3890561   20.08553692  54.59815003 148.4131591 ]\n",
      "log to the base e :  [0.         0.69314718 1.09861229 1.38629436 1.60943791]\n",
      "log to the base 10 :  [0.         0.30103    0.47712125 0.60205999 0.69897   ]\n"
     ]
    }
   ],
   "source": [
    "#print e^x\n",
    "ar = np.array([1,2,3,4,5])\n",
    "print(ar)\n",
    "print('e power ar : ',np.exp(ar))\n",
    "print('log to the base e : ',np.log(ar))\n",
    "print('log to the base 10 : ',np.log10(ar))"
   ]
  },
  {
   "cell_type": "code",
   "execution_count": null,
   "metadata": {},
   "outputs": [],
   "source": []
  }
 ],
 "metadata": {
  "kernelspec": {
   "display_name": "Python 3",
   "language": "python",
   "name": "python3"
  },
  "language_info": {
   "codemirror_mode": {
    "name": "ipython",
    "version": 3
   },
   "file_extension": ".py",
   "mimetype": "text/x-python",
   "name": "python",
   "nbconvert_exporter": "python",
   "pygments_lexer": "ipython3",
   "version": "3.6.5"
  }
 },
 "nbformat": 4,
 "nbformat_minor": 2
}
