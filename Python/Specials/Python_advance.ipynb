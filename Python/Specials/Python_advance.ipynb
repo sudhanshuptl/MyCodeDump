{
 "cells": [
  {
   "cell_type": "markdown",
   "metadata": {},
   "source": [
    "# creating Singlton Class"
   ]
  },
  {
   "cell_type": "code",
   "execution_count": 1,
   "metadata": {},
   "outputs": [
    {
     "name": "stdout",
     "output_type": "stream",
     "text": [
      "I am in __new__\n",
      "I am in __init__()\n",
      "sudhanshu\n",
      "Try to create another instance\n",
      "I am in __new__\n",
      "Error in object creation : It is singlton class so only one instace allowed\n"
     ]
    }
   ],
   "source": [
    "\n",
    "\n",
    "class DemoSinglton(object):\n",
    "    _instance_count = 0\n",
    "\n",
    "    def __init__(self, name):\n",
    "        print('I am in __init__()')\n",
    "        self.name = name\n",
    "\n",
    "    def __new__(cls, *args, **kwargs):\n",
    "        print('I am in __new__')\n",
    "        if cls._instance_count <1:\n",
    "            cls._instance_count += 1\n",
    "            # object is super class\n",
    "            instance = object.__new__(cls)\n",
    "            return instance\n",
    "        else:\n",
    "            raise TypeError('It is singlton class so only one instace allowed')\n",
    "            \n",
    "    def __str__(self):\n",
    "        return self.name\n",
    "\n",
    "    def __del__(self):\n",
    "        DemoSinglton._instance_count -=1\n",
    "\n",
    "if __name__ == '__main__':\n",
    "    obj1 = DemoSinglton(name='sudhanshu')\n",
    "    print(obj1.name)\n",
    "    print('Try to create another instance')\n",
    "    # del obj1\n",
    "    try:\n",
    "        obj2 = DemoSinglton('Shaan')\n",
    "        print(obj2.name)\n",
    "    except Exception as e:\n",
    "        print('Error in object creation :',e)"
   ]
  },
  {
   "cell_type": "code",
   "execution_count": 2,
   "metadata": {},
   "outputs": [
    {
     "name": "stdout",
     "output_type": "stream",
     "text": [
      "I am in __new__\n",
      "I am in __init__()\n",
      "Shaan\n"
     ]
    }
   ],
   "source": [
    "#delete object 1\n",
    "del obj1\n",
    "#try to create new object\n",
    "obj2 = DemoSinglton('Shaan')\n",
    "print(obj2)"
   ]
  },
  {
   "cell_type": "markdown",
   "metadata": {},
   "source": [
    " ## custom constructor using class method"
   ]
  },
  {
   "cell_type": "code",
   "execution_count": 14,
   "metadata": {},
   "outputs": [],
   "source": [
    "class Point(object):\n",
    "    def __init__(self, x, y):\n",
    "        self.x = x\n",
    "        self.y = y\n",
    "    def __str__(self):\n",
    "        ls=[]\n",
    "        for key in self.__dict__.keys():\n",
    "            ls.append(key+'='+str(self.__dict__[key]))\n",
    "        return f'({\", \".join(ls)})'"
   ]
  },
  {
   "cell_type": "code",
   "execution_count": 15,
   "metadata": {},
   "outputs": [
    {
     "name": "stdout",
     "output_type": "stream",
     "text": [
      "(x=2, y=3)\n"
     ]
    }
   ],
   "source": [
    "point = Point(x=2,y=3)\n",
    "print(point)"
   ]
  },
  {
   "cell_type": "markdown",
   "metadata": {},
   "source": [
    "# what if we want to create mirror image of point while creating instance"
   ]
  },
  {
   "cell_type": "code",
   "execution_count": 16,
   "metadata": {},
   "outputs": [],
   "source": [
    "class Point(object):\n",
    "    def __init__(self, x, y, flag=True):\n",
    "        if not flag:\n",
    "            self.x = x\n",
    "            self.y = y\n",
    "            self.type = 'Normal Point'\n",
    "        else:\n",
    "            self.x = y\n",
    "            self.y = x\n",
    "            self.type = 'Mirror Image'\n",
    "    \n",
    "    @classmethod\n",
    "    def creating_normal_point(cls, *args,**kwargs):\n",
    "            return cls(*args, **kwargs,flag=False)\n",
    "        \n",
    "    @classmethod\n",
    "    def creating_mirror_point(cls, *args,**kwargs):\n",
    "            return cls(*args, **kwargs,flag=True)\n",
    "    \n",
    "    def __str__(self):\n",
    "        ls=[]\n",
    "        for key in self.__dict__.keys():\n",
    "            ls.append(key+'='+str(self.__dict__[key]))\n",
    "        return f'({\", \".join(ls)})'"
   ]
  },
  {
   "cell_type": "code",
   "execution_count": 17,
   "metadata": {},
   "outputs": [
    {
     "name": "stdout",
     "output_type": "stream",
     "text": [
      "(x=4, y=5, type=Normal Point)\n"
     ]
    }
   ],
   "source": [
    "normal_point = Point.creating_normal_point(4,5)\n",
    "print(normal_point)"
   ]
  },
  {
   "cell_type": "code",
   "execution_count": 19,
   "metadata": {},
   "outputs": [
    {
     "name": "stdout",
     "output_type": "stream",
     "text": [
      "(x=5, y=4, type=Mirror Image)\n"
     ]
    }
   ],
   "source": [
    "mirror_point = Point.creating_mirror_point(4,5)\n",
    "print(mirror_point)"
   ]
  },
  {
   "cell_type": "markdown",
   "metadata": {},
   "source": [
    "## Use of property decorater"
   ]
  },
  {
   "cell_type": "code",
   "execution_count": 20,
   "metadata": {},
   "outputs": [],
   "source": [
    "class MyDetails(object):\n",
    "    def __init__(self,first_name,last_name):\n",
    "        self.first_name = first_name\n",
    "        self.last_name = last_name\n",
    "    \n",
    "    @property\n",
    "    def full_name(self):\n",
    "        return self.first_name+' '+self.last_name\n",
    "    \n",
    "    @full_name.setter\n",
    "    def full_name(self,full_name):\n",
    "        self.first_name, self.last_name = full_name.split()\n",
    "    \n",
    "    "
   ]
  },
  {
   "cell_type": "code",
   "execution_count": 22,
   "metadata": {},
   "outputs": [
    {
     "data": {
      "text/plain": [
       "'sudhanshu Patel'"
      ]
     },
     "execution_count": 22,
     "metadata": {},
     "output_type": "execute_result"
    }
   ],
   "source": [
    "myname = MyDetails('sudhanshu','Patel')\n",
    "# we are accessing full_name as instance variable\n",
    "myname.full_name"
   ]
  },
  {
   "cell_type": "code",
   "execution_count": 23,
   "metadata": {},
   "outputs": [
    {
     "data": {
      "text/plain": [
       "'Ashutosh Dwivedi'"
      ]
     },
     "execution_count": 23,
     "metadata": {},
     "output_type": "execute_result"
    }
   ],
   "source": [
    "# now setting full name as instance variable\n",
    "myname.full_name = 'Ashutosh Dwivedi'\n",
    "myname.full_name"
   ]
  },
  {
   "cell_type": "code",
   "execution_count": 24,
   "metadata": {},
   "outputs": [
    {
     "data": {
      "text/plain": [
       "'Ashutosh'"
      ]
     },
     "execution_count": 24,
     "metadata": {},
     "output_type": "execute_result"
    }
   ],
   "source": [
    "myname.first_name"
   ]
  },
  {
   "cell_type": "code",
   "execution_count": 25,
   "metadata": {},
   "outputs": [
    {
     "data": {
      "text/plain": [
       "'Dwivedi'"
      ]
     },
     "execution_count": 25,
     "metadata": {},
     "output_type": "execute_result"
    }
   ],
   "source": [
    "myname.last_name"
   ]
  },
  {
   "cell_type": "code",
   "execution_count": null,
   "metadata": {},
   "outputs": [],
   "source": []
  }
 ],
 "metadata": {
  "kernelspec": {
   "display_name": "Python 3",
   "language": "python",
   "name": "python3"
  },
  "language_info": {
   "codemirror_mode": {
    "name": "ipython",
    "version": 3
   },
   "file_extension": ".py",
   "mimetype": "text/x-python",
   "name": "python",
   "nbconvert_exporter": "python",
   "pygments_lexer": "ipython3",
   "version": "3.6.5"
  }
 },
 "nbformat": 4,
 "nbformat_minor": 2
}
