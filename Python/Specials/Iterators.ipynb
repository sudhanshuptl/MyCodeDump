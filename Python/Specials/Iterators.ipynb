{
 "cells": [
  {
   "cell_type": "code",
   "execution_count": 13,
   "metadata": {},
   "outputs": [],
   "source": [
    "class EvenNum():\n",
    "    def __init__(self, limit):\n",
    "        self.limit = limit\n",
    "    \n",
    "    def __iter__(self):\n",
    "        self.x = 2\n",
    "        return self\n",
    "    \n",
    "    def __next__(self):\n",
    "        self.x += 2\n",
    "        if self.x > self.limit:\n",
    "            raise StopIteration\n",
    "        return self.x"
   ]
  },
  {
   "cell_type": "code",
   "execution_count": 14,
   "metadata": {},
   "outputs": [
    {
     "name": "stdout",
     "output_type": "stream",
     "text": [
      "4\n",
      "6\n",
      "8\n",
      "10\n",
      "12\n",
      "14\n",
      "16\n",
      "18\n",
      "20\n",
      "22\n",
      "24\n",
      "26\n",
      "28\n",
      "30\n"
     ]
    }
   ],
   "source": [
    "for evn in EvenNum(30):\n",
    "    print(evn)"
   ]
  },
  {
   "cell_type": "raw",
   "metadata": {},
   "source": [
    "Iterating over list or string are example of built in iterator"
   ]
  },
  {
   "cell_type": "raw",
   "metadata": {},
   "source": [
    "Python in its definition also allows some interesting and useful iterator functions for efficient looping and making execution of the code faster. There are many build-in iterators in the module “itertools“."
   ]
  },
  {
   "cell_type": "markdown",
   "metadata": {},
   "source": [
    "## accumulate(iter, func)"
   ]
  },
  {
   "cell_type": "raw",
   "metadata": {},
   "source": [
    "This iterator takes two arguments, iterable target and the function which would be followed at each iteration of value in target. If no function is passed, addition takes place by default.If the input iterable is empty, the output iterable will also be empty."
   ]
  },
  {
   "cell_type": "code",
   "execution_count": 16,
   "metadata": {},
   "outputs": [],
   "source": [
    "import itertools \n",
    "import operator "
   ]
  },
  {
   "cell_type": "code",
   "execution_count": 17,
   "metadata": {},
   "outputs": [],
   "source": [
    "# initializing list 1 \n",
    "li1 = [1, 4, 5, 7] \n",
    "  \n",
    "# initializing list 2 \n",
    "li2 = [1, 6, 5, 9] \n",
    "  \n",
    "# initializing list 3 \n",
    "li3 = [8, 10, 5, 4] "
   ]
  },
  {
   "cell_type": "code",
   "execution_count": 18,
   "metadata": {},
   "outputs": [
    {
     "name": "stdout",
     "output_type": "stream",
     "text": [
      "The sum after each iteration is : [1, 5, 10, 17]\n"
     ]
    }
   ],
   "source": [
    "# using accumulate() \n",
    "# prints the successive summation of elements \n",
    "print (\"The sum after each iteration is : \",end=\"\") \n",
    "print (list(itertools.accumulate(li1)))"
   ]
  },
  {
   "cell_type": "code",
   "execution_count": 19,
   "metadata": {},
   "outputs": [
    {
     "name": "stdout",
     "output_type": "stream",
     "text": [
      "The product after each iteration is : [1, 4, 20, 140]\n"
     ]
    }
   ],
   "source": [
    "# using accumulate() \n",
    "# prints the successive multiplication of elements \n",
    "print (\"The product after each iteration is : \",end=\"\") \n",
    "print (list(itertools.accumulate(li1,operator.mul))) "
   ]
  },
  {
   "cell_type": "code",
   "execution_count": 20,
   "metadata": {},
   "outputs": [
    {
     "name": "stdout",
     "output_type": "stream",
     "text": [
      "All values in mentioned chain are : [1, 4, 5, 7, 1, 6, 5, 9, 8, 10, 5, 4]\n"
     ]
    }
   ],
   "source": [
    "# using chain() to print all elements of lists \n",
    "print (\"All values in mentioned chain are : \",end=\"\") \n",
    "print (list(itertools.chain(li1,li2,li3)))"
   ]
  },
  {
   "cell_type": "raw",
   "metadata": {},
   "source": [
    "chain.from_iterable() :- This function is implemented similarly as chain() but the argument here is a list of lists or any other iterable container"
   ]
  },
  {
   "cell_type": "code",
   "execution_count": 21,
   "metadata": {},
   "outputs": [
    {
     "name": "stdout",
     "output_type": "stream",
     "text": [
      "All values in mentioned chain are : [1, 4, 5, 7, 1, 6, 5, 9, 8, 10, 5, 4]\n"
     ]
    }
   ],
   "source": [
    "# using chain.from_iterable() to print all elements of lists \n",
    "print (\"All values in mentioned chain are : \",end=\"\") \n",
    "print (list(itertools.chain.from_iterable([li1,li2,li3]))) "
   ]
  },
  {
   "cell_type": "raw",
   "metadata": {},
   "source": [
    "compress(iter, selector) :- This iterator selectively picks the values to print from the passed container according to the boolean list value passed as other argument. The arguments corresponding to boolean true are printed else all are skipped."
   ]
  },
  {
   "cell_type": "code",
   "execution_count": 22,
   "metadata": {},
   "outputs": [
    {
     "name": "stdout",
     "output_type": "stream",
     "text": [
      "The compressed values in string are : ['G', 'F', 'G']\n"
     ]
    }
   ],
   "source": [
    "# using compress() selectively print data values \n",
    "print (\"The compressed values in string are : \",end=\"\") \n",
    "print (list(itertools.compress('GEEKSFORGEEKS',[1,0,0,0,0,1,0,0,1,0,0,0,0]))) "
   ]
  },
  {
   "cell_type": "raw",
   "metadata": {},
   "source": [
    "dropwhile(func, seq) :- This iterator starts printing the characters only after the func. in argument returns false for the first time.\n",
    "\n",
    "filterfalse(func, seq) :- As the name suggests, this iterator prints only values that return false for the passed function."
   ]
  },
  {
   "cell_type": "code",
   "execution_count": 24,
   "metadata": {},
   "outputs": [
    {
     "name": "stdout",
     "output_type": "stream",
     "text": [
      "The values after condition returns false : [5, 7, 8]\n"
     ]
    }
   ],
   "source": [
    "li = [2, 4, 5, 7, 8] \n",
    "\n",
    "# using dropwhile() to start displaying after condition is false \n",
    "print (\"The values after condition returns false : \",end=\"\") \n",
    "print (list(itertools.dropwhile(lambda x : x%2==0,li))) "
   ]
  },
  {
   "cell_type": "raw",
   "metadata": {},
   "source": [
    "1. islice(iterable, start, stop, step) :- This iterator selectively prints the values mentioned in its iterable container passed as argument. This iterator takes 4 arguments, iterable container, starting pos., ending position and step.\n",
    "\n",
    "2. starmap(func., tuple list) :- This iterator takes a function and tuple list as argument and returns the value according to the function from each tuple of list."
   ]
  },
  {
   "cell_type": "code",
   "execution_count": 25,
   "metadata": {},
   "outputs": [
    {
     "name": "stdout",
     "output_type": "stream",
     "text": [
      "The sliced list values are : [4, 7]\n"
     ]
    }
   ],
   "source": [
    "# using islice() to slice the list acc. to need \n",
    "# starts printing from 2nd index till 6th skipping 2 \n",
    "print (\"The sliced list values are : \",end=\"\") \n",
    "print (list(itertools.islice(li,1, 6, 2))) "
   ]
  },
  {
   "cell_type": "code",
   "execution_count": 27,
   "metadata": {},
   "outputs": [
    {
     "name": "stdout",
     "output_type": "stream",
     "text": [
      "The values acc. to function are : [1, 1, 4, 1]\n"
     ]
    }
   ],
   "source": [
    "li1 = [ (1, 10, 5), (8, 4, 1), (5, 4, 9), (11, 10 , 1) ] \n",
    "\n",
    "# using starmap() for selection value acc. to function \n",
    "# selects min of all tuple values \n",
    "print (\"The values acc. to function are : \",end=\"\") \n",
    "print (list(itertools.starmap(min,li1))) "
   ]
  },
  {
   "cell_type": "raw",
   "metadata": {},
   "source": [
    "3. takewhile(func, iterable) :- This iterator is opposite of dropwhile(), it prints the values till the function returns false for 1st time.\n",
    "\n",
    "4. tee(iterator, count) :- This iterator splits the container into a number of iterators mentioned in the argument."
   ]
  },
  {
   "cell_type": "code",
   "execution_count": 28,
   "metadata": {},
   "outputs": [
    {
     "name": "stdout",
     "output_type": "stream",
     "text": [
      "The list values till 1st false value are : [2, 4, 6]\n",
      "The iterators are : \n",
      "[2, 4, 6, 7, 8, 10, 20]\n",
      "[2, 4, 6, 7, 8, 10, 20]\n",
      "[2, 4, 6, 7, 8, 10, 20]\n"
     ]
    }
   ],
   "source": [
    "# initializing list  \n",
    "li = [2, 4, 6, 7, 8, 10, 20] \n",
    "  \n",
    "# storing list in iterator \n",
    "iti = iter(li) \n",
    "  \n",
    "# using takewhile() to print values till condition is false. \n",
    "print (\"The list values till 1st false value are : \",end=\"\") \n",
    "print (list(itertools.takewhile(lambda x : x%2==0,li ))) \n",
    "  \n",
    "# using tee() to make a list of iterators \n",
    "# makes list of 3 iterators having same values. \n",
    "it = itertools.tee(iti, 3) \n",
    "  \n",
    "# printing the values of iterators \n",
    "print (\"The iterators are : \") \n",
    "for i in range (0,3): \n",
    "    print (list(it[i]))"
   ]
  },
  {
   "cell_type": "code",
   "execution_count": 29,
   "metadata": {},
   "outputs": [
    {
     "name": "stdout",
     "output_type": "stream",
     "text": [
      "The combined values of iterables is  : \n",
      "('G', 'e') ('e', 'k') ('s', 'f') ('o', 'r') ('G', 'e') ('e', 'k') ('s', '_')\n"
     ]
    }
   ],
   "source": [
    "# using zip_longest() to combine two iterables. \n",
    "print (\"The combined values of iterables is  : \") \n",
    "print (*(itertools.zip_longest('GesoGes','ekfrek',fillvalue='_' ))) "
   ]
  },
  {
   "cell_type": "raw",
   "metadata": {},
   "source": [
    "1. product(iter1, iter2) :- This iterator prints the cartesian product of the two iterable containers passed as arguments.\n",
    "\n",
    "2. permutations(iter, group_size) :- This iterator prints all possible permutation of all elements of iterable. The size of each permuted group is decided by group_size argument."
   ]
  },
  {
   "cell_type": "code",
   "execution_count": 30,
   "metadata": {},
   "outputs": [
    {
     "name": "stdout",
     "output_type": "stream",
     "text": [
      "The cartesian product of the containers is : \n",
      "[('A', '1'), ('A', '2'), ('B', '1'), ('B', '2')]\n",
      "All the permutations of the given container is : \n",
      "[('G', 'f'), ('G', 'G'), ('f', 'G'), ('f', 'G'), ('G', 'G'), ('G', 'f')]\n"
     ]
    }
   ],
   "source": [
    "# using product() to print the cartesian product \n",
    "print (\"The cartesian product of the containers is : \") \n",
    "print (list(itertools.product('AB','12'))) \n",
    "  \n",
    "# using permutations to compute all possible permutations \n",
    "print (\"All the permutations of the given container is : \") \n",
    "print (list(itertools.permutations('GfG',2))) "
   ]
  },
  {
   "cell_type": "raw",
   "metadata": {},
   "source": [
    "3. combinations(iterable, group_size) :- This iterator prints all the possible combinations(without replacement) of the container passed in arguments in the specified group size in sorted order.\n",
    "\n",
    "4. combinations_with_replacement(iterable, group_size) :- This iterator prints all the possible combinations(with replacement) of the container passed in arguments in the specified group size in sorted order."
   ]
  },
  {
   "cell_type": "code",
   "execution_count": 31,
   "metadata": {},
   "outputs": [
    {
     "name": "stdout",
     "output_type": "stream",
     "text": [
      "All the combination of container in sorted order(without replacement) is : \n",
      "[('1', '2'), ('1', '3'), ('1', '4'), ('2', '3'), ('2', '4'), ('3', '4')]\n",
      "All the combination of container in sorted order(with replacement) is : \n",
      "[('G', 'G'), ('G', 'f'), ('G', 'G'), ('f', 'f'), ('f', 'G'), ('G', 'G')]\n"
     ]
    }
   ],
   "source": [
    "# using combinations() to print every combination \n",
    "# (without replacement) \n",
    "print (\"All the combination of container in sorted order(without replacement) is : \") \n",
    "print (list(itertools.combinations('1234',2))) \n",
    "  \n",
    "# using combinations_with_replacement() to print every combination \n",
    "# with replacement \n",
    "print (\"All the combination of container in sorted order(with replacement) is : \") \n",
    "print (list(itertools.combinations_with_replacement('GfG',2))) \n"
   ]
  },
  {
   "cell_type": "markdown",
   "metadata": {},
   "source": [
    "## Infinite Iterators\n",
    "\n"
   ]
  },
  {
   "cell_type": "raw",
   "metadata": {},
   "source": [
    "count(start, step) :- This iterator starts printing from the “start” number and prints infinitely. If steps are mentioned, the numbers are skipped else step is 1 by default."
   ]
  },
  {
   "cell_type": "raw",
   "metadata": {},
   "source": [
    "cycle(iterable) :- This iterator prints all values in order from the passed container. It restarts printing from beginning again when all elements are printed in a cyclic manner."
   ]
  },
  {
   "cell_type": "raw",
   "metadata": {},
   "source": [
    "repeat(val, num) :- This iterator repeatedly prints the passed value infinite number of times. If num. is mentioned, them till that number."
   ]
  },
  {
   "cell_type": "code",
   "execution_count": null,
   "metadata": {},
   "outputs": [],
   "source": []
  }
 ],
 "metadata": {
  "kernelspec": {
   "display_name": "Python 3",
   "language": "python",
   "name": "python3"
  },
  "language_info": {
   "codemirror_mode": {
    "name": "ipython",
    "version": 3
   },
   "file_extension": ".py",
   "mimetype": "text/x-python",
   "name": "python",
   "nbconvert_exporter": "python",
   "pygments_lexer": "ipython3",
   "version": "3.7.4"
  }
 },
 "nbformat": 4,
 "nbformat_minor": 2
}
