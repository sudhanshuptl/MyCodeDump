{
 "cells": [
  {
   "cell_type": "code",
   "execution_count": 1,
   "metadata": {},
   "outputs": [],
   "source": [
    "import time \n"
   ]
  },
  {
   "cell_type": "code",
   "execution_count": null,
   "metadata": {},
   "outputs": [],
   "source": [
    "# using map is more efficient than using for loop and do stuff"
   ]
  },
  {
   "cell_type": "code",
   "execution_count": 5,
   "metadata": {},
   "outputs": [
    {
     "name": "stdout",
     "output_type": "stream",
     "text": [
      "['G', 'E', 'E', 'K', 'S']\n",
      "Time spent in function is:  0.0002500000000000835\n",
      "<map object at 0x111b42f90>\n",
      "Time spent in builtin function is:  0.00013700000000005375\n"
     ]
    },
    {
     "name": "stderr",
     "output_type": "stream",
     "text": [
      "/usr/local/lib/python3.7/site-packages/ipykernel_launcher.py:2: DeprecationWarning: time.clock has been deprecated in Python 3.3 and will be removed from Python 3.8: use time.perf_counter or time.process_time instead\n",
      "  \n",
      "/usr/local/lib/python3.7/site-packages/ipykernel_launcher.py:8: DeprecationWarning: time.clock has been deprecated in Python 3.3 and will be removed from Python 3.8: use time.perf_counter or time.process_time instead\n",
      "  \n",
      "/usr/local/lib/python3.7/site-packages/ipykernel_launcher.py:14: DeprecationWarning: time.clock has been deprecated in Python 3.3 and will be removed from Python 3.8: use time.perf_counter or time.process_time instead\n",
      "  \n",
      "/usr/local/lib/python3.7/site-packages/ipykernel_launcher.py:17: DeprecationWarning: time.clock has been deprecated in Python 3.3 and will be removed from Python 3.8: use time.perf_counter or time.process_time instead\n"
     ]
    }
   ],
   "source": [
    "# slower (Without map()) \n",
    "start = time.clock()  \n",
    "s = 'geeks'\n",
    "U = [] \n",
    "for c in s: \n",
    "    U.append(c.upper()) \n",
    "print(U)\n",
    "elapsed = time.clock() \n",
    "e1 = elapsed - start \n",
    "print (\"Time spent in function is: \", e1 )\n",
    "  \n",
    "# Faster (Uses builtin function map()) \n",
    "s = 'geeks'\n",
    "start = time.clock()  \n",
    "U = map(str.upper, s)  \n",
    "print(U) \n",
    "elapsed = time.clock() \n",
    "e2 = elapsed - start \n",
    "print (\"Time spent in builtin function is: \", e2 )"
   ]
  },
  {
   "cell_type": "markdown",
   "metadata": {},
   "source": [
    "## If we are doing string operation, consider using an existing module ‘collections’ like deque which is highly optimized for our purposes."
   ]
  },
  {
   "cell_type": "code",
   "execution_count": 7,
   "metadata": {},
   "outputs": [
    {
     "name": "stdout",
     "output_type": "stream",
     "text": [
      "deque(['h', 'g', 'e', 'e', 'k', 'y'])\n",
      "['k', 'e', 'e', 'g']\n"
     ]
    }
   ],
   "source": [
    "from collections import deque \n",
    "s = 'geek'\n",
    "  \n",
    "# make a new deque \n",
    "d = deque(s) \n",
    "  \n",
    "# add a new entry to the right side \n",
    "d.append('y') \n",
    "  \n",
    "# add a new entry to the left side \n",
    "d.appendleft('h')  \n",
    "print(d) \n",
    "  \n",
    "d.pop() # return and remove the rightmost item \n",
    "  \n",
    "d.popleft() # return and remove the lefttmost item \n",
    "  \n",
    "# print list deque in reverse \n",
    "print(list(reversed(d)) )\n"
   ]
  },
  {
   "cell_type": "markdown",
   "metadata": {},
   "source": [
    "# Permutations"
   ]
  },
  {
   "cell_type": "code",
   "execution_count": 9,
   "metadata": {},
   "outputs": [
    {
     "name": "stdout",
     "output_type": "stream",
     "text": [
      "[(1, 2, 3), (1, 3, 2), (2, 1, 3), (2, 3, 1), (3, 1, 2), (3, 2, 1)]\n"
     ]
    }
   ],
   "source": [
    "import itertools \n",
    "iter = itertools.permutations([1,2,3]) \n",
    "print(list(iter)) "
   ]
  },
  {
   "cell_type": "markdown",
   "metadata": {},
   "source": [
    "# Optimizing loops"
   ]
  },
  {
   "cell_type": "raw",
   "metadata": {},
   "source": [
    "Write idiomatic code: This may sound counter-intuitive but writing idiomatic code will make your code faster in most cases. This is because Python was designed to have only one obvious/correct way to do a task.\n",
    "For example (String Concatenation)"
   ]
  },
  {
   "cell_type": "code",
   "execution_count": 10,
   "metadata": {},
   "outputs": [
    {
     "name": "stdout",
     "output_type": "stream",
     "text": [
      "hellogeeks\n",
      "hellogeeks\n"
     ]
    }
   ],
   "source": [
    "# slow O(n^2) - ( Note: In latest implementations it is O(n) ) \n",
    "s = 'hellogeeks'\n",
    "slist = '' \n",
    "for i in s: \n",
    "    slist = slist + i \n",
    "print(slist )\n",
    "      \n",
    "# string concatenation (idiomatic and fast O(n)) \n",
    "st = 'hellogeeks' \n",
    "slist = ''.join([i for i in s]) \n",
    "print (slist) "
   ]
  },
  {
   "cell_type": "code",
   "execution_count": 12,
   "metadata": {},
   "outputs": [
    {
     "name": "stdout",
     "output_type": "stream",
     "text": [
      "geeks for geeks\n",
      "geeks for geeks\n"
     ]
    }
   ],
   "source": [
    "# slow \n",
    "v = 'for'\n",
    "s = 'geeks ' + v + ' geeks'\n",
    "print (s) \n",
    "  \n",
    "# fast \n",
    "s = 'geeks %s geeks' % v \n",
    "print(s )"
   ]
  },
  {
   "cell_type": "code",
   "execution_count": 13,
   "metadata": {},
   "outputs": [
    {
     "name": "stdout",
     "output_type": "stream",
     "text": [
      "{'g': 3, 'e': 5, 'k': 3, 's': 2, 'f': 1, 'o': 1, 'r': 1}\n",
      "{'g': 3, 'e': 5, 'k': 3, 's': 2, 'f': 1, 'o': 1, 'r': 1}\n"
     ]
    }
   ],
   "source": [
    "# slower \n",
    "mydict = {'g':1,'e':1,'e':1,'k':1} \n",
    "word = 'geeksforgeeks'\n",
    "for w in word: \n",
    "    if w not in mydict: \n",
    "        mydict[w] = 0\n",
    "    mydict[w] += 1\n",
    "print (mydict) \n",
    "  \n",
    "# faster \n",
    "mydict = {'g':1,'e':1,'e':1,'k':1} \n",
    "word = 'geeksforgeeks'\n",
    "for w in word: \n",
    "    try: \n",
    "        mydict[w] += 1\n",
    "    except KeyError: \n",
    "        mydict[w] = 1\n",
    "print (mydict) "
   ]
  },
  {
   "cell_type": "code",
   "execution_count": null,
   "metadata": {},
   "outputs": [],
   "source": []
  }
 ],
 "metadata": {
  "kernelspec": {
   "display_name": "Python 3",
   "language": "python",
   "name": "python3"
  },
  "language_info": {
   "codemirror_mode": {
    "name": "ipython",
    "version": 3
   },
   "file_extension": ".py",
   "mimetype": "text/x-python",
   "name": "python",
   "nbconvert_exporter": "python",
   "pygments_lexer": "ipython3",
   "version": "3.7.4"
  }
 },
 "nbformat": 4,
 "nbformat_minor": 2
}
