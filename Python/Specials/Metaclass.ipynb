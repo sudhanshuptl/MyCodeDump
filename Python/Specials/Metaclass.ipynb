{
 "cells": [
  {
   "cell_type": "raw",
   "metadata": {},
   "source": [
    "We can create classes using type() function directly. It can be called in following ways –\n",
    "\n",
    "When called with only one argument, it returns the type. We have seen it before in above examples.\n",
    "When called with three parameters, it creates a class. Following arguments are passed to it –\n",
    "    * Class name\n",
    "    * Tuple having base classes inherited by class\n",
    "    * Class Dictionary: It serves as local namespace for the class, populated with class methods and variables"
   ]
  },
  {
   "cell_type": "code",
   "execution_count": 1,
   "metadata": {},
   "outputs": [],
   "source": [
    "def test_method(self): \n",
    "    print(\"This is Test class method!\") \n",
    "  \n",
    "# creating a base class  \n",
    "class Base: \n",
    "    def myfun(self): \n",
    "        print(\"This is inherited method!\") \n",
    "  "
   ]
  },
  {
   "cell_type": "code",
   "execution_count": 2,
   "metadata": {},
   "outputs": [],
   "source": [
    "# Creating Test class dynamically using \n",
    "# type() method directly \n",
    "Test = type('Test', (Base, ), dict(x=\"atul\", my_method=test_method)) "
   ]
  },
  {
   "cell_type": "code",
   "execution_count": 3,
   "metadata": {},
   "outputs": [
    {
     "name": "stdout",
     "output_type": "stream",
     "text": [
      "Help on class Test in module __main__:\n",
      "\n",
      "class Test(Base)\n",
      " |  Method resolution order:\n",
      " |      Test\n",
      " |      Base\n",
      " |      builtins.object\n",
      " |  \n",
      " |  Methods defined here:\n",
      " |  \n",
      " |  my_method = test_method(self)\n",
      " |  \n",
      " |  ----------------------------------------------------------------------\n",
      " |  Data and other attributes defined here:\n",
      " |  \n",
      " |  x = 'atul'\n",
      " |  \n",
      " |  ----------------------------------------------------------------------\n",
      " |  Methods inherited from Base:\n",
      " |  \n",
      " |  myfun(self)\n",
      " |  \n",
      " |  ----------------------------------------------------------------------\n",
      " |  Data descriptors inherited from Base:\n",
      " |  \n",
      " |  __dict__\n",
      " |      dictionary for instance variables (if defined)\n",
      " |  \n",
      " |  __weakref__\n",
      " |      list of weak references to the object (if defined)\n",
      "\n"
     ]
    }
   ],
   "source": [
    "help(Test) #parent of Test class in Base, instance variable is atul, and have my_method"
   ]
  },
  {
   "cell_type": "code",
   "execution_count": 6,
   "metadata": {},
   "outputs": [
    {
     "data": {
      "text/plain": [
       "type"
      ]
     },
     "execution_count": 6,
     "metadata": {},
     "output_type": "execute_result"
    }
   ],
   "source": [
    "type(Test)"
   ]
  },
  {
   "cell_type": "code",
   "execution_count": 4,
   "metadata": {},
   "outputs": [],
   "source": [
    "test_obj = Test()"
   ]
  },
  {
   "cell_type": "code",
   "execution_count": 5,
   "metadata": {},
   "outputs": [
    {
     "data": {
      "text/plain": [
       "__main__.Test"
      ]
     },
     "execution_count": 5,
     "metadata": {},
     "output_type": "execute_result"
    }
   ],
   "source": [
    "type(test_obj)"
   ]
  },
  {
   "cell_type": "code",
   "execution_count": 8,
   "metadata": {},
   "outputs": [
    {
     "data": {
      "text/plain": [
       "'atul'"
      ]
     },
     "execution_count": 8,
     "metadata": {},
     "output_type": "execute_result"
    }
   ],
   "source": [
    "test_obj.x"
   ]
  },
  {
   "cell_type": "code",
   "execution_count": 9,
   "metadata": {},
   "outputs": [
    {
     "name": "stdout",
     "output_type": "stream",
     "text": [
      "This is Test class method!\n"
     ]
    }
   ],
   "source": [
    "test_obj.my_method()"
   ]
  },
  {
   "cell_type": "markdown",
   "metadata": {},
   "source": [
    "# Restrict Inheritance to one level"
   ]
  },
  {
   "cell_type": "raw",
   "metadata": {},
   "source": [
    "creating a metaclass MultiBases which will check if class being created have inherited from more than one base classes. If so, it will raise an error."
   ]
  },
  {
   "cell_type": "code",
   "execution_count": 10,
   "metadata": {},
   "outputs": [],
   "source": [
    "# our metaclass \n",
    "class MultiBases(type): \n",
    "    # overriding __new__ method \n",
    "    def __new__(cls, clsname, bases, clsdict): \n",
    "        # if no of base classes is greator than 1 \n",
    "        # raise error \n",
    "        if len(bases)>1: \n",
    "            raise TypeError(\"Inherited multiple base classes!!!\") \n",
    "          \n",
    "        # else execute __new__ method of super class, ie. \n",
    "        # call __init__ of type class \n",
    "        return super().__new__(cls, clsname, bases, clsdict) "
   ]
  },
  {
   "cell_type": "code",
   "execution_count": 11,
   "metadata": {},
   "outputs": [],
   "source": [
    "# metaclass can be specified by 'metaclass' keyword argument \n",
    "# now MultiBase class is used for creating classes \n",
    "# this will be propagated to all subclasses of Base \n",
    "class Base(metaclass=MultiBases): \n",
    "    pass"
   ]
  },
  {
   "cell_type": "code",
   "execution_count": 12,
   "metadata": {},
   "outputs": [],
   "source": [
    "# no error is raised \n",
    "class A(Base): \n",
    "    pass"
   ]
  },
  {
   "cell_type": "code",
   "execution_count": 13,
   "metadata": {},
   "outputs": [],
   "source": [
    "# no error is raised \n",
    "class B(Base): \n",
    "    pass"
   ]
  },
  {
   "cell_type": "code",
   "execution_count": 15,
   "metadata": {},
   "outputs": [
    {
     "ename": "TypeError",
     "evalue": "Inherited multiple base classes!!!",
     "output_type": "error",
     "traceback": [
      "\u001b[0;31m---------------------------------------------------------------------------\u001b[0m",
      "\u001b[0;31mTypeError\u001b[0m                                 Traceback (most recent call last)",
      "\u001b[0;32m<ipython-input-15-ae207fa85740>\u001b[0m in \u001b[0;36m<module>\u001b[0;34m\u001b[0m\n\u001b[1;32m      1\u001b[0m \u001b[0;31m# This will raise an error!\u001b[0m\u001b[0;34m\u001b[0m\u001b[0;34m\u001b[0m\u001b[0;34m\u001b[0m\u001b[0m\n\u001b[0;32m----> 2\u001b[0;31m \u001b[0;32mclass\u001b[0m \u001b[0mC\u001b[0m\u001b[0;34m(\u001b[0m\u001b[0mA\u001b[0m\u001b[0;34m,\u001b[0m \u001b[0mB\u001b[0m\u001b[0;34m)\u001b[0m\u001b[0;34m:\u001b[0m\u001b[0;34m\u001b[0m\u001b[0;34m\u001b[0m\u001b[0m\n\u001b[0m\u001b[1;32m      3\u001b[0m     \u001b[0;32mpass\u001b[0m\u001b[0;34m\u001b[0m\u001b[0;34m\u001b[0m\u001b[0m\n",
      "\u001b[0;32m<ipython-input-10-94b0bffb00ad>\u001b[0m in \u001b[0;36m__new__\u001b[0;34m(cls, clsname, bases, clsdict)\u001b[0m\n\u001b[1;32m      6\u001b[0m         \u001b[0;31m# raise error\u001b[0m\u001b[0;34m\u001b[0m\u001b[0;34m\u001b[0m\u001b[0;34m\u001b[0m\u001b[0m\n\u001b[1;32m      7\u001b[0m         \u001b[0;32mif\u001b[0m \u001b[0mlen\u001b[0m\u001b[0;34m(\u001b[0m\u001b[0mbases\u001b[0m\u001b[0;34m)\u001b[0m\u001b[0;34m>\u001b[0m\u001b[0;36m1\u001b[0m\u001b[0;34m:\u001b[0m\u001b[0;34m\u001b[0m\u001b[0;34m\u001b[0m\u001b[0m\n\u001b[0;32m----> 8\u001b[0;31m             \u001b[0;32mraise\u001b[0m \u001b[0mTypeError\u001b[0m\u001b[0;34m(\u001b[0m\u001b[0;34m\"Inherited multiple base classes!!!\"\u001b[0m\u001b[0;34m)\u001b[0m\u001b[0;34m\u001b[0m\u001b[0;34m\u001b[0m\u001b[0m\n\u001b[0m\u001b[1;32m      9\u001b[0m \u001b[0;34m\u001b[0m\u001b[0m\n\u001b[1;32m     10\u001b[0m         \u001b[0;31m# else execute __new__ method of super class, ie.\u001b[0m\u001b[0;34m\u001b[0m\u001b[0;34m\u001b[0m\u001b[0;34m\u001b[0m\u001b[0m\n",
      "\u001b[0;31mTypeError\u001b[0m: Inherited multiple base classes!!!"
     ]
    }
   ],
   "source": [
    "# This will raise an error! \n",
    "class C(A, B): \n",
    "    pass"
   ]
  },
  {
   "cell_type": "markdown",
   "metadata": {},
   "source": [
    "# Solving problem with metaclass\n",
    "\n"
   ]
  },
  {
   "cell_type": "raw",
   "metadata": {},
   "source": [
    "We want to debug class methods, what we want is that whenever class method executes, it should print it’s fully qualified name before executing it’s body.\n",
    "\n"
   ]
  },
  {
   "cell_type": "code",
   "execution_count": 16,
   "metadata": {},
   "outputs": [],
   "source": [
    "from functools import wraps \n",
    "from pprint import pprint"
   ]
  },
  {
   "cell_type": "code",
   "execution_count": 25,
   "metadata": {},
   "outputs": [
    {
     "data": {
      "text/plain": [
       "mappingproxy({'__module__': '__main__',\n",
       "              'add': <function __main__.Calc.add(self, x, y)>,\n",
       "              'mul': <function __main__.Calc.mul(self, x, y)>,\n",
       "              'div': <function __main__.Calc.div(self, x, y)>,\n",
       "              '__dict__': <attribute '__dict__' of 'Calc' objects>,\n",
       "              '__weakref__': <attribute '__weakref__' of 'Calc' objects>,\n",
       "              '__doc__': None})"
      ]
     },
     "execution_count": 25,
     "metadata": {},
     "output_type": "execute_result"
    }
   ],
   "source": [
    "vars(Calc)"
   ]
  },
  {
   "cell_type": "code",
   "execution_count": 17,
   "metadata": {},
   "outputs": [],
   "source": [
    "def debug(func): \n",
    "    '''decorator for debugging passed function'''\n",
    "      \n",
    "    @wraps(func) \n",
    "    def wrapper(*args, **kwargs): \n",
    "        print(\"Full name of this method:\", func.__qualname__) \n",
    "        return func(*args, **kwargs) \n",
    "    return wrapper \n",
    "  \n",
    "def debugmethods(cls): \n",
    "    '''class decorator make use of debug decorator \n",
    "       to debug class methods '''\n",
    "      \n",
    "    # check in class dictionary for any callable(method) \n",
    "    # if exist, replace it with debugged version \n",
    "    for key, val in vars(cls).items(): \n",
    "        if callable(val): # if value is callable like function\n",
    "            setattr(cls, key, debug(val))  # then add decorator debug on it (simply replacing it with debug(val))\n",
    "    return cls\n"
   ]
  },
  {
   "cell_type": "code",
   "execution_count": 18,
   "metadata": {},
   "outputs": [],
   "source": [
    "# sample class \n",
    "@debugmethods\n",
    "class Calc: \n",
    "    def add(self, x, y): \n",
    "        return x+y \n",
    "    def mul(self, x, y): \n",
    "        return x*y \n",
    "    def div(self, x, y): \n",
    "        return x/y "
   ]
  },
  {
   "cell_type": "code",
   "execution_count": 19,
   "metadata": {},
   "outputs": [
    {
     "name": "stdout",
     "output_type": "stream",
     "text": [
      "Full name of this method: Calc.add\n",
      "5\n",
      "Full name of this method: Calc.mul\n",
      "10\n"
     ]
    }
   ],
   "source": [
    "mycal = Calc() \n",
    "print(mycal.add(2, 3)) \n",
    "print(mycal.mul(5, 2))"
   ]
  },
  {
   "cell_type": "raw",
   "metadata": {},
   "source": [
    "It works properly but what if we want to apply this method decorator to all subclasses which inherit this Calc class. In that case we have to separately apply method decorator to every subclass just like we did with Calc class."
   ]
  },
  {
   "cell_type": "raw",
   "metadata": {},
   "source": [
    "The problem is if we have many such subclasses, then in that case we won’t like adding decorator to each one separately. If we know beforehand that every subclass must have this debug property, then we should look up to metaclass based solution."
   ]
  },
  {
   "cell_type": "markdown",
   "metadata": {},
   "source": [
    "## Metaclass based solution solved all above issue"
   ]
  },
  {
   "cell_type": "code",
   "execution_count": 27,
   "metadata": {},
   "outputs": [],
   "source": [
    "from functools import wraps \n",
    "  \n",
    "def debug(func): \n",
    "    '''decorator for debugging passed function'''\n",
    "      \n",
    "    @wraps(func) \n",
    "    def wrapper(*args, **kwargs): \n",
    "        print(\"Full name of this method:\", func.__qualname__) \n",
    "        return func(*args, **kwargs) \n",
    "    return wrapper \n",
    "  \n",
    "def debugmethods(cls): \n",
    "    '''class decorator make use of debug decorator \n",
    "       to debug class methods '''\n",
    "      \n",
    "    for key, val in vars(cls).items(): \n",
    "        if callable(val): \n",
    "            setattr(cls, key, debug(val)) \n",
    "    return cls"
   ]
  },
  {
   "cell_type": "code",
   "execution_count": 28,
   "metadata": {},
   "outputs": [],
   "source": [
    "# Metaclass\n",
    "class debugMeta(type): \n",
    "    '''meta class which feed created class object \n",
    "       to debugmethod to get debug functionality \n",
    "       enabled objects'''\n",
    "      \n",
    "    def __new__(cls, clsname, bases, clsdict): \n",
    "        obj = super().__new__(cls, clsname, bases, clsdict) \n",
    "        obj = debugmethods(obj) #added decorator debugmethods for all class inheritted from this metaclass\n",
    "        return obj \n"
   ]
  },
  {
   "cell_type": "code",
   "execution_count": 29,
   "metadata": {},
   "outputs": [],
   "source": [
    "# base class with metaclass 'debugMeta' \n",
    "# now all the subclass of this  \n",
    "# will have debugging applied \n",
    "class Base(metaclass=debugMeta):pass\n",
    "  \n",
    "# inheriting Base \n",
    "class Calc(Base): \n",
    "    def add(self, x, y): \n",
    "        return x+y \n",
    "      \n",
    "# inheriting Calc \n",
    "class Calc_adv(Calc): \n",
    "    def mul(self, x, y): \n",
    "        return x*y "
   ]
  },
  {
   "cell_type": "code",
   "execution_count": 30,
   "metadata": {},
   "outputs": [
    {
     "name": "stdout",
     "output_type": "stream",
     "text": [
      "Full name of this method: Calc_adv.mul\n",
      "6\n"
     ]
    }
   ],
   "source": [
    "# Now Calc_adv object showing \n",
    "# debugging behaviour \n",
    "mycal = Calc_adv() \n",
    "print(mycal.mul(2, 3)) "
   ]
  },
  {
   "cell_type": "code",
   "execution_count": null,
   "metadata": {},
   "outputs": [],
   "source": []
  }
 ],
 "metadata": {
  "kernelspec": {
   "display_name": "Python 3",
   "language": "python",
   "name": "python3"
  },
  "language_info": {
   "codemirror_mode": {
    "name": "ipython",
    "version": 3
   },
   "file_extension": ".py",
   "mimetype": "text/x-python",
   "name": "python",
   "nbconvert_exporter": "python",
   "pygments_lexer": "ipython3",
   "version": "3.7.4"
  }
 },
 "nbformat": 4,
 "nbformat_minor": 2
}
