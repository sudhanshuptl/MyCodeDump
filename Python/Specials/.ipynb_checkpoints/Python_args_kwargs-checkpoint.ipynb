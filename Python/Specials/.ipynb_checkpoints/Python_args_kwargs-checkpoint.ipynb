{
 "cells": [
  {
   "cell_type": "code",
   "execution_count": 4,
   "metadata": {},
   "outputs": [],
   "source": [
    "%config IPCompleter.greedy=True #autocomplete feature"
   ]
  },
  {
   "cell_type": "code",
   "execution_count": 5,
   "metadata": {},
   "outputs": [],
   "source": [
    "\n",
    "def test_func1(*args, **kwargs):\n",
    "    print('Test Func 1')\n",
    "    #argument are without key then accept as tuple\n",
    "    print(args)\n",
    "    #if data are assign with key it will go to **kwargs as a dict\n",
    "    print(kwargs)\n",
    "\n"
   ]
  },
  {
   "cell_type": "code",
   "execution_count": 6,
   "metadata": {},
   "outputs": [
    {
     "name": "stdout",
     "output_type": "stream",
     "text": [
      "Calling function with key value pair arguments\n",
      "Test Func 1\n",
      "()\n",
      "{'a': 5, 'b': 7, 'd': 9}\n"
     ]
    }
   ],
   "source": [
    "print('Calling function with key value pair arguments')\n",
    "test_func1(a=5, b=7, d=9)\n"
   ]
  },
  {
   "cell_type": "code",
   "execution_count": 7,
   "metadata": {},
   "outputs": [
    {
     "name": "stdout",
     "output_type": "stream",
     "text": [
      "Calling function with value  arguments only\n",
      "Test Func 1\n",
      "(5, 7, 9)\n",
      "{}\n"
     ]
    }
   ],
   "source": [
    "print('Calling function with value  arguments only')\n",
    "test_func1(5, 7, 9)"
   ]
  },
  {
   "cell_type": "code",
   "execution_count": 15,
   "metadata": {},
   "outputs": [],
   "source": [
    "\n",
    "def test_func2(*args, **kwargs):\n",
    "    print('print arguments:')\n",
    "    if args:\n",
    "        for arg in args:\n",
    "            print(arg)\n",
    "    if kwargs:\n",
    "        for key in kwargs:\n",
    "            print(key,' : ',kwargs[key])\n",
    "        "
   ]
  },
  {
   "cell_type": "code",
   "execution_count": 16,
   "metadata": {},
   "outputs": [
    {
     "name": "stdout",
     "output_type": "stream",
     "text": [
      "Calling function with key value pair arguments\n",
      "print arguments:\n",
      "a  :  5\n",
      "b  :  7\n",
      "d  :  9\n"
     ]
    }
   ],
   "source": [
    "print('Calling function with key value pair arguments')\n",
    "test_func2(a=5, b=7, d=9)"
   ]
  },
  {
   "cell_type": "code",
   "execution_count": 17,
   "metadata": {},
   "outputs": [
    {
     "name": "stdout",
     "output_type": "stream",
     "text": [
      "Calling function with value  arguments only\n",
      "print arguments:\n",
      "5\n",
      "7\n",
      "9\n"
     ]
    }
   ],
   "source": [
    "print('Calling function with value  arguments only')\n",
    "test_func2(5, 7, 9)"
   ]
  },
  {
   "cell_type": "code",
   "execution_count": null,
   "metadata": {},
   "outputs": [],
   "source": []
  }
 ],
 "metadata": {
  "kernelspec": {
   "display_name": "Python 3",
   "language": "python",
   "name": "python3"
  },
  "language_info": {
   "codemirror_mode": {
    "name": "ipython",
    "version": 3
   },
   "file_extension": ".py",
   "mimetype": "text/x-python",
   "name": "python",
   "nbconvert_exporter": "python",
   "pygments_lexer": "ipython3",
   "version": "3.6.5"
  }
 },
 "nbformat": 4,
 "nbformat_minor": 2
}
