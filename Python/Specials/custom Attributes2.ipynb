{
 "cells": [
  {
   "cell_type": "markdown",
   "metadata": {},
   "source": [
    "# \\__getattribute__()"
   ]
  },
  {
   "cell_type": "code",
   "execution_count": 1,
   "metadata": {},
   "outputs": [],
   "source": []
  },
  {
   "cell_type": "code",
   "execution_count": null,
   "metadata": {},
   "outputs": [],
   "source": [
    "class LoggingProxy():\n",
    "    def __init__(self, targets):\n",
    "        super().__setattr__('target',target)\n",
    "    \n",
    "    def __getattribute__(self, name):\n",
    "        target = super().__getattribute__('target')\n",
    "        try:\n",
    "            value = getattr(target, name)\n",
    "        except:\n",
    "            raise AttributeError('Atrribute not found')\n",
    "        print('retrived Atribute {!r}= {!r} from {!r}'.format(name, value, target))\n",
    "        return value\n",
    "    "
   ]
  }
 ],
 "metadata": {
  "kernelspec": {
   "display_name": "Python 3",
   "language": "python",
   "name": "python3"
  },
  "language_info": {
   "codemirror_mode": {
    "name": "ipython",
    "version": 3
   },
   "file_extension": ".py",
   "mimetype": "text/x-python",
   "name": "python",
   "nbconvert_exporter": "python",
   "pygments_lexer": "ipython3",
   "version": "3.6.5"
  }
 },
 "nbformat": 4,
 "nbformat_minor": 2
}
