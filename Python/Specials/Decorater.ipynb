{
 "cells": [
  {
   "cell_type": "markdown",
   "metadata": {},
   "source": [
    "## decorater is function that wrap up the input function to alter its behabiour"
   ]
  },
  {
   "cell_type": "code",
   "execution_count": 2,
   "metadata": {},
   "outputs": [],
   "source": [
    "%config IPCompleter.greedy=True #autocomplete feature"
   ]
  },
  {
   "cell_type": "code",
   "execution_count": 6,
   "metadata": {},
   "outputs": [],
   "source": [
    "def mydecorater(f):\n",
    "    def wraper():\n",
    "        print('This is because of decorater, before function call')\n",
    "        f()\n",
    "        print('After actual function call')\n",
    "    return wraper\n",
    "    "
   ]
  },
  {
   "cell_type": "code",
   "execution_count": 7,
   "metadata": {},
   "outputs": [
    {
     "name": "stdout",
     "output_type": "stream",
     "text": [
      "This is because of decorater, before function call\n",
      "Sudhanshu\n",
      "After actual function call\n"
     ]
    }
   ],
   "source": [
    "@mydecorater\n",
    "def myName():\n",
    "    print('Sudhanshu')\n",
    "    \n",
    "myName()"
   ]
  },
  {
   "cell_type": "code",
   "execution_count": 8,
   "metadata": {},
   "outputs": [
    {
     "ename": "TypeError",
     "evalue": "wraper() takes 0 positional arguments but 1 was given",
     "output_type": "error",
     "traceback": [
      "\u001b[0;31m---------------------------------------------------------------------------\u001b[0m",
      "\u001b[0;31mTypeError\u001b[0m                                 Traceback (most recent call last)",
      "\u001b[0;32m<ipython-input-8-9bbfabb094e3>\u001b[0m in \u001b[0;36m<module>\u001b[0;34m()\u001b[0m\n\u001b[1;32m      4\u001b[0m     \u001b[0mprint\u001b[0m\u001b[0;34m(\u001b[0m\u001b[0mname\u001b[0m\u001b[0;34m)\u001b[0m\u001b[0;34m\u001b[0m\u001b[0m\n\u001b[1;32m      5\u001b[0m \u001b[0;34m\u001b[0m\u001b[0m\n\u001b[0;32m----> 6\u001b[0;31m \u001b[0mmyName\u001b[0m\u001b[0;34m(\u001b[0m\u001b[0;34m'Ashutosh'\u001b[0m\u001b[0;34m)\u001b[0m\u001b[0;34m\u001b[0m\u001b[0m\n\u001b[0m",
      "\u001b[0;31mTypeError\u001b[0m: wraper() takes 0 positional arguments but 1 was given"
     ]
    }
   ],
   "source": [
    "#now passing name as argument\n",
    "@mydecorater\n",
    "def myName(name):\n",
    "    print(name)\n",
    "    \n",
    "myName('Ashutosh')"
   ]
  },
  {
   "cell_type": "markdown",
   "metadata": {},
   "source": [
    "## updating wrapper for supporting function arguments"
   ]
  },
  {
   "cell_type": "code",
   "execution_count": 11,
   "metadata": {},
   "outputs": [],
   "source": [
    "\n",
    "\n",
    "def mydecorater(f):\n",
    "    def wraper(*args, **kwargs):\n",
    "        print('This is because of decorater, before function call')\n",
    "        f(*args, **kwargs)\n",
    "        print('After actual function call')\n",
    "    return wraper\n",
    "    "
   ]
  },
  {
   "cell_type": "code",
   "execution_count": 12,
   "metadata": {},
   "outputs": [
    {
     "name": "stdout",
     "output_type": "stream",
     "text": [
      "This is because of decorater, before function call\n",
      "Ashutosh\n",
      "After actual function call\n"
     ]
    }
   ],
   "source": [
    "#now passing name as argument\n",
    "@mydecorater\n",
    "def myName(name):\n",
    "    print(name)\n",
    "    \n",
    "myName('Ashutosh')"
   ]
  },
  {
   "cell_type": "markdown",
   "metadata": {},
   "source": [
    "# Decorater is function itself , what if decorater itself take an argument"
   ]
  },
  {
   "cell_type": "markdown",
   "metadata": {},
   "source": [
    "We create another function on top , that take can take data and apply decorater in subfunction"
   ]
  },
  {
   "cell_type": "code",
   "execution_count": 13,
   "metadata": {},
   "outputs": [],
   "source": [
    "\n",
    "\n",
    "def mydecorater(msg=\"demo\"):\n",
    "    def decorated(f):\n",
    "        def wraper(*args, **kwargs):\n",
    "            print(msg)\n",
    "            print('This is because of decorater, before function call')\n",
    "            f(*args, **kwargs)\n",
    "            print('After actual function call')\n",
    "        return wraper\n",
    "    return decorated\n",
    "    "
   ]
  },
  {
   "cell_type": "code",
   "execution_count": 14,
   "metadata": {},
   "outputs": [
    {
     "name": "stdout",
     "output_type": "stream",
     "text": [
      "I am decorater demo msg\n",
      "This is because of decorater, before function call\n",
      "Ashutosh\n",
      "After actual function call\n"
     ]
    }
   ],
   "source": [
    "#now passing name as argument\n",
    "@mydecorater('I am decorater demo msg')\n",
    "def myName(name):\n",
    "    print(name)\n",
    "    \n",
    "myName('Ashutosh')"
   ]
  },
  {
   "cell_type": "code",
   "execution_count": null,
   "metadata": {},
   "outputs": [],
   "source": []
  }
 ],
 "metadata": {
  "kernelspec": {
   "display_name": "Python 3",
   "language": "python",
   "name": "python3"
  },
  "language_info": {
   "codemirror_mode": {
    "name": "ipython",
    "version": 3
   },
   "file_extension": ".py",
   "mimetype": "text/x-python",
   "name": "python",
   "nbconvert_exporter": "python",
   "pygments_lexer": "ipython3",
   "version": "3.6.5"
  }
 },
 "nbformat": 4,
 "nbformat_minor": 2
}
