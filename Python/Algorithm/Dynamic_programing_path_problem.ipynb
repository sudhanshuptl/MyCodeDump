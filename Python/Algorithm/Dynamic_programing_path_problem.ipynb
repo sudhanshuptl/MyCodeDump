{
 "cells": [
  {
   "cell_type": "code",
   "execution_count": 11,
   "metadata": {},
   "outputs": [],
   "source": [
    "from pprint import pprint"
   ]
  },
  {
   "cell_type": "code",
   "execution_count": 1,
   "metadata": {},
   "outputs": [],
   "source": [
    "# Find the number of possible path between point a to b of matrix where 0 is dead block in path, -1 is usable block\n",
    "# start : (0,0) -> dest (row,col)"
   ]
  },
  {
   "cell_type": "code",
   "execution_count": 36,
   "metadata": {},
   "outputs": [],
   "source": [
    "path =[\n",
    "    [-1,-1,-1,-1,-1,-1,-1,-1],\n",
    "    [-1,-1,0,-1,-1,-1,0,-1],\n",
    "    [-1,-1,-1,-1,0,-1,-1,-1],\n",
    "    [0,-1,0,-1,-1,0,-1,-1],\n",
    "    [-1,-1,0,-1,-1,-1,-1,-1],\n",
    "    [-1,-1,-1,0,0,-1,0,-1],\n",
    "    [-1,0,-1,-1,-1,0,-1,-1],\n",
    "    [-1,-1,-1,-1,-1,-1,-1,-1]\n",
    "]"
   ]
  },
  {
   "cell_type": "code",
   "execution_count": 37,
   "metadata": {},
   "outputs": [],
   "source": [
    "row = len(path) -1\n",
    "col = len(path[0]) -1"
   ]
  },
  {
   "cell_type": "code",
   "execution_count": 38,
   "metadata": {},
   "outputs": [
    {
     "name": "stdout",
     "output_type": "stream",
     "text": [
      "[[-1, -1, -1, -1, -1, -1, -1, -1],\n",
      " [-1, -1, 0, -1, -1, -1, 0, -1],\n",
      " [-1, -1, -1, -1, 0, -1, -1, -1],\n",
      " [0, -1, 0, -1, -1, 0, -1, -1],\n",
      " [-1, -1, 0, -1, -1, -1, -1, -1],\n",
      " [-1, -1, -1, 0, 0, -1, 0, -1],\n",
      " [-1, 0, -1, -1, -1, 0, -1, -1],\n",
      " [-1, -1, -1, -1, -1, -1, -1, 1]]\n"
     ]
    }
   ],
   "source": [
    "# adding value for destination is 1 as going from desto- > dest has total 1 path\n",
    "path[row][col] =1\n",
    "pprint(path)"
   ]
  },
  {
   "cell_type": "raw",
   "metadata": {},
   "source": [
    "# move back from destination and calculate total path from each block.\n",
    "# remeber we can only move below and farword\n",
    "if value ==0 means : blocked path\n",
    "if block.below exist and block.forword then value = block.below + block.forword "
   ]
  },
  {
   "cell_type": "code",
   "execution_count": 39,
   "metadata": {},
   "outputs": [],
   "source": [
    "for r in range(row,-1,-1):\n",
    "    for c in range(col,-1,-1):\n",
    "        if path[r][c] == 0:\n",
    "            # blocked block\n",
    "            continue\n",
    "        elif path[r][c] == -1:\n",
    "            below, forword = 0,0\n",
    "            if r+1 <= row:\n",
    "                below = path[r+1][c]\n",
    "            if c+1 <= col:\n",
    "                forword = path[r][c+1]\n",
    "            path[r][c] = below + forword # value = block.below + block.forword \n",
    "                "
   ]
  },
  {
   "cell_type": "code",
   "execution_count": 40,
   "metadata": {},
   "outputs": [
    {
     "name": "stdout",
     "output_type": "stream",
     "text": [
      "[[27, 17, 12, 12, 7, 4, 1, 1],\n",
      " [10, 5, 0, 5, 3, 3, 0, 1],\n",
      " [5, 5, 2, 2, 0, 3, 3, 1],\n",
      " [0, 3, 0, 2, 1, 0, 2, 1],\n",
      " [7, 3, 0, 1, 1, 1, 1, 1],\n",
      " [4, 3, 3, 0, 0, 0, 0, 1],\n",
      " [1, 0, 3, 2, 1, 0, 2, 1],\n",
      " [1, 1, 1, 1, 1, 1, 1, 1]]\n"
     ]
    }
   ],
   "source": [
    "pprint(path)"
   ]
  },
  {
   "cell_type": "code",
   "execution_count": 41,
   "metadata": {},
   "outputs": [
    {
     "data": {
      "text/plain": [
       "27"
      ]
     },
     "execution_count": 41,
     "metadata": {},
     "output_type": "execute_result"
    }
   ],
   "source": [
    "# So the total path will be \n",
    "path[0][0]"
   ]
  },
  {
   "cell_type": "markdown",
   "metadata": {},
   "source": [
    "# Find nth highest"
   ]
  },
  {
   "cell_type": "code",
   "execution_count": 42,
   "metadata": {},
   "outputs": [],
   "source": [
    "import heapq"
   ]
  },
  {
   "cell_type": "code",
   "execution_count": 49,
   "metadata": {},
   "outputs": [],
   "source": [
    "ls =[4,5,6,3,2,5,7,4,3]"
   ]
  },
  {
   "cell_type": "code",
   "execution_count": 50,
   "metadata": {},
   "outputs": [
    {
     "data": {
      "text/plain": [
       "[7, 6, 5]"
      ]
     },
     "execution_count": 50,
     "metadata": {},
     "output_type": "execute_result"
    }
   ],
   "source": [
    "#return top max 3\n",
    "heapq.nlargest(3,ls)"
   ]
  },
  {
   "cell_type": "code",
   "execution_count": 51,
   "metadata": {},
   "outputs": [
    {
     "data": {
      "text/plain": [
       "[2, 3, 3]"
      ]
     },
     "execution_count": 51,
     "metadata": {},
     "output_type": "execute_result"
    }
   ],
   "source": [
    "# return top 3 min\n",
    "heapq.nsmallest(3,ls)"
   ]
  },
  {
   "cell_type": "code",
   "execution_count": null,
   "metadata": {},
   "outputs": [],
   "source": []
  }
 ],
 "metadata": {
  "kernelspec": {
   "display_name": "Python 3",
   "language": "python",
   "name": "python3"
  },
  "language_info": {
   "codemirror_mode": {
    "name": "ipython",
    "version": 3
   },
   "file_extension": ".py",
   "mimetype": "text/x-python",
   "name": "python",
   "nbconvert_exporter": "python",
   "pygments_lexer": "ipython3",
   "version": "3.7.4"
  }
 },
 "nbformat": 4,
 "nbformat_minor": 2
}
