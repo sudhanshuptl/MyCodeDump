{
 "cells": [
  {
   "cell_type": "markdown",
   "metadata": {},
   "source": [
    "# 6 Way to print Fibonacci Numbers"
   ]
  },
  {
   "cell_type": "code",
   "execution_count": 25,
   "metadata": {},
   "outputs": [],
   "source": [
    "# 0,1, 1, 2, 3, 5, 8"
   ]
  },
  {
   "cell_type": "markdown",
   "metadata": {},
   "source": [
    "## 1. Iterative"
   ]
  },
  {
   "cell_type": "code",
   "execution_count": 44,
   "metadata": {},
   "outputs": [
    {
     "name": "stdout",
     "output_type": "stream",
     "text": [
      "3\n"
     ]
    }
   ],
   "source": [
    "#print nth fibonacci number\n",
    "def iterative(n):\n",
    "    a,b=0,1\n",
    "    if n <= 1:\n",
    "        return a\n",
    "    for i in range(n-2):\n",
    "        a,b = b, a+b\n",
    "    return b\n",
    "\n",
    "print(iterative(5))\n",
    "\n",
    "# each time whole calculation is done\n",
    "# will work great if need to print all fibonacci number till nth"
   ]
  },
  {
   "cell_type": "markdown",
   "metadata": {},
   "source": [
    "## 2. recursive"
   ]
  },
  {
   "cell_type": "code",
   "execution_count": 45,
   "metadata": {},
   "outputs": [
    {
     "name": "stdout",
     "output_type": "stream",
     "text": [
      "5\n"
     ]
    }
   ],
   "source": [
    "def fib_recursive(n):\n",
    "    if n <= 1:\n",
    "        return 0\n",
    "    if n == 2:\n",
    "        return 1\n",
    "    return fib_recursive(n-1) + fib_recursive(n-2)\n",
    "\n",
    "print(fib_recursive(6))\n",
    "\n",
    "# each time whole calculation is done\n",
    "# will work great if it is just one time calculation to find nth fib\n",
    "# for large number it may fail because of stack overflow"
   ]
  },
  {
   "cell_type": "markdown",
   "metadata": {},
   "source": [
    "## 3. Using class"
   ]
  },
  {
   "cell_type": "code",
   "execution_count": 57,
   "metadata": {},
   "outputs": [
    {
     "name": "stdout",
     "output_type": "stream",
     "text": [
      "0\n",
      "1\n",
      "1\n",
      "2\n",
      "3\n",
      "5\n",
      "8\n"
     ]
    }
   ],
   "source": [
    "class Fibonacci():\n",
    "    def __init__(self):\n",
    "        self.a, self.b = 0,1\n",
    "    \n",
    "    def __iter__(self):\n",
    "        self.a, self.b = 0,1\n",
    "        return self\n",
    "        \n",
    "    def __next__(self):\n",
    "        temp  = self.a\n",
    "        self.a, self.b = self.b, self.a + self.b\n",
    "        if self.a >10000:\n",
    "            raise StopIteration # condition to stop iteration\n",
    "        return temp\n",
    "\n",
    "# print n fibonacci number\n",
    "n = 7\n",
    "fib = Fibonacci()\n",
    "for i in range(n):\n",
    "    print(next(fib))\n",
    "    \n",
    "# This is very efficint for printing n fibonacci numbers\n",
    "# this code can be written very simply using generator "
   ]
  },
  {
   "cell_type": "markdown",
   "metadata": {},
   "source": [
    "## 4. Generator "
   ]
  },
  {
   "cell_type": "code",
   "execution_count": 54,
   "metadata": {},
   "outputs": [
    {
     "name": "stdout",
     "output_type": "stream",
     "text": [
      "0\n",
      "1\n",
      "1\n",
      "2\n",
      "3\n",
      "5\n",
      "8\n",
      "13\n",
      "21\n",
      "34\n"
     ]
    }
   ],
   "source": [
    "def fib_generator(n):\n",
    "    a,b = 0,1\n",
    "    yield a\n",
    "    yield b\n",
    "    i=2\n",
    "    while i < n:\n",
    "        a,b = b, a+b\n",
    "        i += 1\n",
    "        yield b\n",
    "        \n",
    "for fib in fib_generator(10):\n",
    "    print(fib)\n",
    "\n",
    "# This is very efficint for printing n fibonacci numbers\n",
    "# also very simple and efficint way to generate result on demand like class technique"
   ]
  },
  {
   "cell_type": "markdown",
   "metadata": {},
   "source": [
    "## 5. Using Function object to create generator like behaviour"
   ]
  },
  {
   "cell_type": "code",
   "execution_count": 59,
   "metadata": {},
   "outputs": [
    {
     "data": {
      "text/plain": [
       "{'a': 13, 'b': 21}"
      ]
     },
     "execution_count": 59,
     "metadata": {},
     "output_type": "execute_result"
    }
   ],
   "source": [
    "# function in python is also a first class we can create instance variables \n",
    "# to keep track of base variables as in generator or class object method\n",
    "fib.__dict__ #for class object __dict__ return all the instance variables in dict form"
   ]
  },
  {
   "cell_type": "code",
   "execution_count": 62,
   "metadata": {},
   "outputs": [
    {
     "name": "stdout",
     "output_type": "stream",
     "text": [
      "0\n",
      "1\n",
      "1\n",
      "2\n",
      "3\n",
      "5\n"
     ]
    }
   ],
   "source": [
    "def fib_func():\n",
    "    if 'a' not in fib_func.__dict__:\n",
    "        fib_func.a = 0\n",
    "    if 'b' not in fib_func.__dict__:\n",
    "        fib_func.b = 1\n",
    "    temp =fib_func.a\n",
    "    fib_func.a, fib_func.b = fib_func.b, fib_func.a + fib_func.b\n",
    "    return temp\n",
    "\n",
    "# print n fibbonacci numbers\n",
    "n=6\n",
    "for i in range(n):\n",
    "    print(fib_func())\n",
    "    \n",
    "# This is same as generater or class technique just a different way of implementation"
   ]
  },
  {
   "cell_type": "markdown",
   "metadata": {},
   "source": [
    "# 6. Using Dynamic Programming "
   ]
  },
  {
   "cell_type": "code",
   "execution_count": 69,
   "metadata": {},
   "outputs": [
    {
     "data": {
      "text/plain": [
       "3"
      ]
     },
     "execution_count": 69,
     "metadata": {},
     "output_type": "execute_result"
    }
   ],
   "source": [
    "# in dynmaic programming technique we just keep track of previous values as they are dependent\n",
    "\n",
    "def dynamic_fib(n):\n",
    "    if 'ls' not in dynamic_fib.__dict__:\n",
    "        dynamic_fib.ls=[0, 1] # base variables\n",
    "    \n",
    "    if 0 < n < len(dynamic_fib.ls):\n",
    "        return dynamic_fib.ls[n-1]\n",
    "    \n",
    "    for i in range(len(dynamic_fib.ls)-1, n-1):\n",
    "        dynamic_fib.ls.append(dynamic_fib.ls[i]+ dynamic_fib.ls[i-1])\n",
    "        \n",
    "    return dynamic_fib.ls[-1]\n"
   ]
  },
  {
   "cell_type": "code",
   "execution_count": 75,
   "metadata": {},
   "outputs": [
    {
     "name": "stdout",
     "output_type": "stream",
     "text": [
      "3\n",
      "2\n",
      "8\n"
     ]
    }
   ],
   "source": [
    "# drawback it is storing all previous values\n",
    "# but if we are fetching already calculated value it won't calculate again\n",
    "# using most efficint way of calculation\n",
    "# best among all\n",
    "print(dynamic_fib(5)) # calculte 3,4,5 the fib number\n",
    "print(dynamic_fib(4)) # does't require any calulation as laready calculated in last\n",
    "print(dynamic_fib(7)) # only calculate 6th and 7th fib number"
   ]
  },
  {
   "cell_type": "code",
   "execution_count": null,
   "metadata": {},
   "outputs": [],
   "source": []
  }
 ],
 "metadata": {
  "kernelspec": {
   "display_name": "Python 3",
   "language": "python",
   "name": "python3"
  },
  "language_info": {
   "codemirror_mode": {
    "name": "ipython",
    "version": 3
   },
   "file_extension": ".py",
   "mimetype": "text/x-python",
   "name": "python",
   "nbconvert_exporter": "python",
   "pygments_lexer": "ipython3",
   "version": "3.7.1"
  }
 },
 "nbformat": 4,
 "nbformat_minor": 2
}
