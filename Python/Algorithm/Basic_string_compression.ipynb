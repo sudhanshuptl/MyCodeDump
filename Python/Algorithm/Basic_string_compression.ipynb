{
 "cells": [
  {
   "cell_type": "raw",
   "metadata": {},
   "source": [
    "\n",
    "Implement a method to perform basic string compression using the counts of repeated characters.\n",
    "\n",
    "The twist: the string can also contain digits. Think of encoding and decode protocol. How the compression can be reversed properly?\n",
    "\n",
    "For example, ab2ccccd -> ab24cd\n",
    "\n"
   ]
  },
  {
   "cell_type": "raw",
   "metadata": {},
   "source": [
    "\n",
    "Corner case:\n",
    "    * when count of consicutive digits 10+ , then decoding became redundent\n",
    "    * when there is an integer in between , then how to differenciate "
   ]
  },
  {
   "cell_type": "raw",
   "metadata": {},
   "source": [
    "Solution:\n",
    "    1. instead of writing a15 we can write a9a6 and so on\n",
    "    2. we will write count for all like a2c -> a121c1 i.e charcater followed by the number of occurence"
   ]
  },
  {
   "cell_type": "code",
   "execution_count": 63,
   "metadata": {},
   "outputs": [],
   "source": [
    "def basic_encode(data: str) -> str:\n",
    "    \n",
    "    def splitter(count, ch):\n",
    "        result = []\n",
    "        while(count != 0):\n",
    "            if count > 9:\n",
    "                result.append(ch+'9')\n",
    "                count -= 9\n",
    "            else:\n",
    "                result.append(ch+str(count))\n",
    "                break\n",
    "        \n",
    "        return \"\".join(result)\n",
    "        \n",
    "    if data: \n",
    "        output = []\n",
    "        count, i = 1, 1\n",
    "        current_char = data[0]\n",
    "        while i< len(data):\n",
    "            if count == 0:\n",
    "                count = 1\n",
    "                current_char = data[i]\n",
    "                i+=1\n",
    "            elif current_char == data[i]:\n",
    "                count +=1\n",
    "                i+=1\n",
    "            elif current_char != data[i]:\n",
    "                if count < 10:\n",
    "                    output.append(current_char+str(count))\n",
    "                else:\n",
    "                    output.append(splitter(count, current_char))\n",
    "                count = 0\n",
    "            \n",
    "        \n",
    "        if count < 10:\n",
    "            output.append(current_char+str(count))\n",
    "        else:\n",
    "            output.append(splitter(count, current_char))\n",
    "                    \n",
    "        return \"\".join(output)\n",
    "        \n",
    "        "
   ]
  },
  {
   "cell_type": "code",
   "execution_count": 99,
   "metadata": {},
   "outputs": [
    {
     "data": {
      "text/plain": [
       "'a9a2b9b3a2b7c4d1012131'"
      ]
     },
     "execution_count": 99,
     "metadata": {},
     "output_type": "execute_result"
    }
   ],
   "source": [
    "inp = \"aaaaaaaaaaabbbbbbbbbbbbaabbbbbbbccccd023\"\n",
    "enc = basic_encode(inp)\n",
    "enc"
   ]
  },
  {
   "cell_type": "code",
   "execution_count": 104,
   "metadata": {},
   "outputs": [],
   "source": [
    "def basic_decode(data: str)-> str:\n",
    "    result = []\n",
    "    for ch, count in zip(data[::2], data[1::2]):\n",
    "        i = int(count)\n",
    "        while i != 0:\n",
    "            result.append(ch)\n",
    "            i -=1\n",
    "    return \"\".join(result)"
   ]
  },
  {
   "cell_type": "code",
   "execution_count": 105,
   "metadata": {},
   "outputs": [
    {
     "data": {
      "text/plain": [
       "'aaaaaaaaaaabbbbbbbbbbbbaabbbbbbbccccd023'"
      ]
     },
     "execution_count": 105,
     "metadata": {},
     "output_type": "execute_result"
    }
   ],
   "source": [
    "dec = basic_decode(enc)\n",
    "dec"
   ]
  },
  {
   "cell_type": "code",
   "execution_count": 102,
   "metadata": {},
   "outputs": [
    {
     "data": {
      "text/plain": [
       "True"
      ]
     },
     "execution_count": 102,
     "metadata": {},
     "output_type": "execute_result"
    }
   ],
   "source": [
    "dec==inp"
   ]
  },
  {
   "cell_type": "markdown",
   "metadata": {},
   "source": [
    "## Can we optimise or make encoding much cleaner"
   ]
  },
  {
   "cell_type": "raw",
   "metadata": {},
   "source": [
    "We can try using 2 stack one will maintain counter and other one is the chars but it will take space,"
   ]
  },
  {
   "cell_type": "code",
   "execution_count": 106,
   "metadata": {},
   "outputs": [],
   "source": [
    "from collections import OrderedDict"
   ]
  },
  {
   "cell_type": "code",
   "execution_count": 111,
   "metadata": {},
   "outputs": [],
   "source": [
    "def basic_encoder_optimised(data: str)-> str:\n",
    "    chars = [data[0]]\n",
    "    counter = [1]\n",
    "    for ch in data[1:]:\n",
    "        if ch == chars[-1]:\n",
    "            counter[-1] +=1\n",
    "        else:\n",
    "            chars.append(ch)\n",
    "            counter.append(1)\n",
    "    \n",
    "    #merge & join\n",
    "    def splitter(ch, count):\n",
    "        result = []\n",
    "        while(count != 0):\n",
    "            if count > 9:\n",
    "                result.append(ch+'9')\n",
    "                count -= 9\n",
    "            else:\n",
    "                result.append(ch+str(count))\n",
    "                break\n",
    "        return \"\".join(result)\n",
    "    \n",
    "    return \"\".join([splitter(x,y)  for x,y in zip(chars, counter)])\n",
    "                       "
   ]
  },
  {
   "cell_type": "code",
   "execution_count": 112,
   "metadata": {},
   "outputs": [
    {
     "data": {
      "text/plain": [
       "'a9a2b9b3a2b7c4d1012131'"
      ]
     },
     "execution_count": 112,
     "metadata": {},
     "output_type": "execute_result"
    }
   ],
   "source": [
    "inp = \"aaaaaaaaaaabbbbbbbbbbbbaabbbbbbbccccd023\"\n",
    "enc = basic_encoder_optimised(inp)\n",
    "enc"
   ]
  },
  {
   "cell_type": "code",
   "execution_count": 113,
   "metadata": {},
   "outputs": [
    {
     "data": {
      "text/plain": [
       "'aaaaaaaaaaabbbbbbbbbbbbaabbbbbbbccccd023'"
      ]
     },
     "execution_count": 113,
     "metadata": {},
     "output_type": "execute_result"
    }
   ],
   "source": [
    "dec = basic_decode(enc)\n",
    "dec"
   ]
  },
  {
   "cell_type": "code",
   "execution_count": 114,
   "metadata": {},
   "outputs": [
    {
     "data": {
      "text/plain": [
       "True"
      ]
     },
     "execution_count": 114,
     "metadata": {},
     "output_type": "execute_result"
    }
   ],
   "source": [
    "inp==dec"
   ]
  },
  {
   "cell_type": "code",
   "execution_count": null,
   "metadata": {},
   "outputs": [],
   "source": []
  }
 ],
 "metadata": {
  "kernelspec": {
   "display_name": "Python 3",
   "language": "python",
   "name": "python3"
  },
  "language_info": {
   "codemirror_mode": {
    "name": "ipython",
    "version": 3
   },
   "file_extension": ".py",
   "mimetype": "text/x-python",
   "name": "python",
   "nbconvert_exporter": "python",
   "pygments_lexer": "ipython3",
   "version": "3.7.4"
  }
 },
 "nbformat": 4,
 "nbformat_minor": 2
}
