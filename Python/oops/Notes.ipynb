{
 "cells": [
  {
   "cell_type": "markdown",
   "metadata": {},
   "source": [
    "## Hidden class variable"
   ]
  },
  {
   "cell_type": "code",
   "execution_count": 13,
   "metadata": {},
   "outputs": [],
   "source": [
    "class MyClass: \n",
    "  \n",
    "    # Hidden member of MyClass \n",
    "    __hiddenVariable = 0\n",
    "    # visible\n",
    "    visibleVar = 5 \n",
    "\n",
    "obj = MyClass()"
   ]
  },
  {
   "cell_type": "code",
   "execution_count": 7,
   "metadata": {},
   "outputs": [
    {
     "data": {
      "text/plain": [
       "5"
      ]
     },
     "execution_count": 7,
     "metadata": {},
     "output_type": "execute_result"
    }
   ],
   "source": [
    "MyClass.visibleVar"
   ]
  },
  {
   "cell_type": "code",
   "execution_count": 8,
   "metadata": {},
   "outputs": [
    {
     "data": {
      "text/plain": [
       "5"
      ]
     },
     "execution_count": 8,
     "metadata": {},
     "output_type": "execute_result"
    }
   ],
   "source": [
    "obj.visibleVar"
   ]
  },
  {
   "cell_type": "code",
   "execution_count": 9,
   "metadata": {},
   "outputs": [
    {
     "ename": "AttributeError",
     "evalue": "'MyClass' object has no attribute '__hiddenVariable'",
     "output_type": "error",
     "traceback": [
      "\u001b[0;31m---------------------------------------------------------------------------\u001b[0m",
      "\u001b[0;31mAttributeError\u001b[0m                            Traceback (most recent call last)",
      "\u001b[0;32m<ipython-input-9-20fee7e20b73>\u001b[0m in \u001b[0;36m<module>\u001b[0;34m\u001b[0m\n\u001b[0;32m----> 1\u001b[0;31m \u001b[0mobj\u001b[0m\u001b[0;34m.\u001b[0m\u001b[0m__hiddenVariable\u001b[0m\u001b[0;34m\u001b[0m\u001b[0;34m\u001b[0m\u001b[0m\n\u001b[0m",
      "\u001b[0;31mAttributeError\u001b[0m: 'MyClass' object has no attribute '__hiddenVariable'"
     ]
    }
   ],
   "source": [
    "obj.__hiddenVariable"
   ]
  },
  {
   "cell_type": "code",
   "execution_count": 4,
   "metadata": {},
   "outputs": [
    {
     "ename": "AttributeError",
     "evalue": "type object 'MyClass' has no attribute '__hiddenVariable'",
     "output_type": "error",
     "traceback": [
      "\u001b[0;31m---------------------------------------------------------------------------\u001b[0m",
      "\u001b[0;31mAttributeError\u001b[0m                            Traceback (most recent call last)",
      "\u001b[0;32m<ipython-input-4-a09916282349>\u001b[0m in \u001b[0;36m<module>\u001b[0;34m\u001b[0m\n\u001b[0;32m----> 1\u001b[0;31m \u001b[0mMyClass\u001b[0m\u001b[0;34m.\u001b[0m\u001b[0m__hiddenVariable\u001b[0m\u001b[0;34m\u001b[0m\u001b[0;34m\u001b[0m\u001b[0m\n\u001b[0m",
      "\u001b[0;31mAttributeError\u001b[0m: type object 'MyClass' has no attribute '__hiddenVariable'"
     ]
    }
   ],
   "source": [
    "MyClass.__hiddenVariable"
   ]
  },
  {
   "cell_type": "code",
   "execution_count": 14,
   "metadata": {},
   "outputs": [
    {
     "data": {
      "text/plain": [
       "0"
      ]
     },
     "execution_count": 14,
     "metadata": {},
     "output_type": "execute_result"
    }
   ],
   "source": [
    "# TO print hidden variable\n",
    "obj._MyClass__hiddenVariable"
   ]
  },
  {
   "cell_type": "code",
   "execution_count": 15,
   "metadata": {},
   "outputs": [
    {
     "data": {
      "text/plain": [
       "7"
      ]
     },
     "execution_count": 15,
     "metadata": {},
     "output_type": "execute_result"
    }
   ],
   "source": [
    "obj._MyClass__hiddenVariable = 7 #we can also update\n",
    "obj._MyClass__hiddenVariable"
   ]
  },
  {
   "cell_type": "markdown",
   "metadata": {},
   "source": [
    "# How to access parent members in a subclass?\n",
    "\n"
   ]
  },
  {
   "cell_type": "code",
   "execution_count": 18,
   "metadata": {},
   "outputs": [],
   "source": [
    "class Base(object): \n",
    "  \n",
    "    # Constructor \n",
    "    def __init__(self, x): \n",
    "        self.x = x     \n",
    "  \n",
    "class Derived(Base): \n",
    "  \n",
    "    # Constructor \n",
    "    def __init__(self, x, y): \n",
    "        Base.x = x  \n",
    "        self.y = y \n",
    "  \n",
    "    def printXY(self): \n",
    "       \n",
    "       # print(self.x, self.y) will also work \n",
    "       print(Base.x, self.y) \n",
    "  \n",
    "  \n"
   ]
  },
  {
   "cell_type": "code",
   "execution_count": 19,
   "metadata": {},
   "outputs": [
    {
     "name": "stdout",
     "output_type": "stream",
     "text": [
      "10 20\n"
     ]
    }
   ],
   "source": [
    "# Driver Code \n",
    "d = Derived(10, 20) \n",
    "d.printXY() "
   ]
  },
  {
   "cell_type": "markdown",
   "metadata": {},
   "source": [
    "### Using super()"
   ]
  },
  {
   "cell_type": "code",
   "execution_count": 20,
   "metadata": {},
   "outputs": [
    {
     "name": "stdout",
     "output_type": "stream",
     "text": [
      "10 20\n"
     ]
    }
   ],
   "source": [
    "# Super c an change behabiour as child class decide wo will be super\n",
    "class Base(object): \n",
    "  \n",
    "    # Constructor \n",
    "    def __init__(self, x): \n",
    "        self.x = x     \n",
    "  \n",
    "class Derived(Base): \n",
    "  \n",
    "    # Constructor \n",
    "    def __init__(self, x, y): \n",
    "          \n",
    "        ''' In Python 3.x, \"super().__init__(name)\" \n",
    "            also works''' \n",
    "        super(Derived, self).__init__(x) \n",
    "        self.y = y \n",
    "  \n",
    "    def printXY(self): \n",
    "  \n",
    "       # Note that Base.x won't work here \n",
    "       # because super() is used in constructor \n",
    "       print(self.x, self.y) \n",
    "  \n",
    "  \n",
    "# Driver Code \n",
    "d = Derived(10, 20) \n",
    "d.printXY()"
   ]
  },
  {
   "cell_type": "markdown",
   "metadata": {},
   "source": [
    "### using class name to call preant constructor"
   ]
  },
  {
   "cell_type": "code",
   "execution_count": 26,
   "metadata": {},
   "outputs": [],
   "source": [
    "class Base(object): \n",
    "  \n",
    "    # Constructor \n",
    "    def __init__(self, x): \n",
    "        self.x = x     \n",
    "  \n",
    "class Derived(Base): \n",
    "  \n",
    "    # Constructor \n",
    "    def __init__(self, x, y): \n",
    "\n",
    "        Base.__init__(self,x) \n",
    "        self.y = y \n",
    "  \n",
    "    def printXY(self): \n",
    "       print(self.x, self.y) \n",
    "  \n",
    "  \n"
   ]
  },
  {
   "cell_type": "code",
   "execution_count": 27,
   "metadata": {},
   "outputs": [
    {
     "name": "stdout",
     "output_type": "stream",
     "text": [
      "10 20\n"
     ]
    }
   ],
   "source": [
    "# Driver Code \n",
    "d = Derived(10, 20) \n",
    "d.printXY()"
   ]
  },
  {
   "cell_type": "code",
   "execution_count": null,
   "metadata": {},
   "outputs": [],
   "source": []
  }
 ],
 "metadata": {
  "kernelspec": {
   "display_name": "Python 3",
   "language": "python",
   "name": "python3"
  },
  "language_info": {
   "codemirror_mode": {
    "name": "ipython",
    "version": 3
   },
   "file_extension": ".py",
   "mimetype": "text/x-python",
   "name": "python",
   "nbconvert_exporter": "python",
   "pygments_lexer": "ipython3",
   "version": "3.7.4"
  }
 },
 "nbformat": 4,
 "nbformat_minor": 2
}
